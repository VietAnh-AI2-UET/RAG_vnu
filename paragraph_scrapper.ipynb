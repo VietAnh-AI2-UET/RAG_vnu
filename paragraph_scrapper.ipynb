{
 "cells": [
  {
   "cell_type": "code",
   "execution_count": 3,
   "metadata": {
    "colab": {
     "base_uri": "https://localhost:8080/"
    },
    "executionInfo": {
     "elapsed": 7040,
     "status": "ok",
     "timestamp": 1746838432550,
     "user": {
      "displayName": "Việt Anh Bùi",
      "userId": "14071907704536065243"
     },
     "user_tz": -420
    },
    "id": "qEhIAo9W-EFy",
    "outputId": "809e9de2-e97a-499d-a940-70bd418884ec"
   },
   "outputs": [
    {
     "name": "stdout",
     "output_type": "stream",
     "text": [
      "Collecting ftfy\n",
      "  Downloading ftfy-6.3.1-py3-none-any.whl.metadata (7.3 kB)\n",
      "Requirement already satisfied: wcwidth in /usr/local/lib/python3.11/dist-packages (from ftfy) (0.2.13)\n",
      "Downloading ftfy-6.3.1-py3-none-any.whl (44 kB)\n",
      "\u001b[?25l   \u001b[90m━━━━━━━━━━━━━━━━━━━━━━━━━━━━━━━━━━━━━━━━\u001b[0m \u001b[32m0.0/44.8 kB\u001b[0m \u001b[31m?\u001b[0m eta \u001b[36m-:--:--\u001b[0m\r\u001b[2K   \u001b[90m━━━━━━━━━━━━━━━━━━━━━━━━━━━━━━━━━━━━━━━━\u001b[0m \u001b[32m44.8/44.8 kB\u001b[0m \u001b[31m3.5 MB/s\u001b[0m eta \u001b[36m0:00:00\u001b[0m\n",
      "\u001b[?25hInstalling collected packages: ftfy\n",
      "Successfully installed ftfy-6.3.1\n",
      "Requirement already satisfied: beautifulsoup4 in /usr/local/lib/python3.11/dist-packages (4.13.4)\n",
      "Requirement already satisfied: soupsieve>1.2 in /usr/local/lib/python3.11/dist-packages (from beautifulsoup4) (2.7)\n",
      "Requirement already satisfied: typing-extensions>=4.0.0 in /usr/local/lib/python3.11/dist-packages (from beautifulsoup4) (4.13.2)\n"
     ]
    }
   ],
   "source": [
    "!pip install ftfy\n",
    "!pip install beautifulsoup4"
   ]
  },
  {
   "cell_type": "code",
   "execution_count": 4,
   "metadata": {
    "executionInfo": {
     "elapsed": 627,
     "status": "ok",
     "timestamp": 1746838433178,
     "user": {
      "displayName": "Việt Anh Bùi",
      "userId": "14071907704536065243"
     },
     "user_tz": -420
    },
    "id": "npq4Mj2EWfOy"
   },
   "outputs": [],
   "source": [
    "from bs4 import BeautifulSoup\n",
    "from ftfy import fix_text\n",
    "import os\n",
    "import requests"
   ]
  },
  {
   "cell_type": "code",
   "execution_count": null,
   "metadata": {
    "id": "2__ExM2RXVb4"
   },
   "outputs": [],
   "source": [
    "#scrapping data tu trang lich su vnu\n",
    "url = \"https://vnu.edu.vn/home/?C1916/N4/Lich-su-hinh-thanh.htm\"\n",
    "page = requests.get(url)\n",
    "soup = BeautifulSoup(page.text, 'html')"
   ]
  },
  {
   "cell_type": "code",
   "execution_count": null,
   "metadata": {
    "id": "Y7kpwtPdYiXk"
   },
   "outputs": [],
   "source": [
    "#trich xuat van ban\n",
    "#van ban can trich xuat nam trong the <p>\n",
    "paragraph = soup.find_all(\"p\")\n",
    "\n",
    "#lap qua tung the <p>\n",
    "clean_text = []\n",
    "for p in paragraph:\n",
    "  text = p.get_text().strip()\n",
    "  if text:\n",
    "    clean_text.append(text)\n",
    "\n",
    "#ket noi cac doan van ban\n",
    "final_text = \"\\n\".join(clean_text)\n",
    "\n",
    "#xu ly Unicode\n",
    "final_text = fix_text(final_text)"
   ]
  },
  {
   "cell_type": "code",
   "execution_count": null,
   "metadata": {
    "colab": {
     "base_uri": "https://localhost:8080/"
    },
    "executionInfo": {
     "elapsed": 101,
     "status": "ok",
     "timestamp": 1746591764057,
     "user": {
      "displayName": "Việt Anh Bùi",
      "userId": "14071907704536065243"
     },
     "user_tz": -420
    },
    "id": "2HherGqT7ywE",
    "outputId": "c389dcdf-7368-46ca-fce0-e7fe014b47f4"
   },
   "outputs": [
    {
     "name": "stdout",
     "output_type": "stream",
     "text": [
      "Đại học Quốc gia Hà Nội (tên giao dịch bằng tiếng Anh: Vietnam National University, Hanoi; viết tắt là VNU) được thành lập theo Nghị định số 97/ CP ngày 10 tháng 12 năm 1993 của Chính phủ trên cơ sở tổ chức, sắp\n",
      "Truyền thống của ĐHQGHN gắn với lịch sử hình thành và phát triển của những trường đại học tiêu biểu ở Việt Nam trong suốt bề dày của thế kỷ XX, bắt đầu từ Trường đại học Đông Dương (16/5/1906) có cơ sở tại 19 Lê Thánh Tông, Hà Nội. Đây là trường đại học kiểu hiện đại đầu tiên ở Việt Nam (thời kỳ Pháp thuộc) được tổ chức theo mô hình trường đại học đa ngành, đa lĩnh vực.\n",
      "Sau khi Cách mạng tháng Tám thành công, Nhà nước dân chủ nhân dân đã thành lập Trường đại học Quốc gia Việt Nam trên cơ sở kế thừa Trường đại học Đông Dương và khai giảng khóa học đầu tiên vào ngày 15/11/1945. Trường đại học Quốc gia Việt Nam có cơ cấu tổ chức và chương trình đào tạo theo mô hình của một đại học đa ngành, đa lĩnh vực, vừa tiếp thu tinh hoa văn hóa nhân loại, vừa xây dựng nền tảng của giáo dục cách mạng, nhằm đáp ứng nhu cầu đào tạo cán bộ khoa học phục vụ công cuộc kháng chiến, kiến quốc.\n",
      "Sau hoà bình lập lại, Nhà nước ta đã thành lập một số trường đại học ở miền Bắc, như Trường đại học Tổng hợp Hà Nội (1956) và Trường đại học Sư phạm Hà Nội (trong đó có khoa Ngoại ngữ, sau này phát triển thành Trường đại học Sư phạm Ngoại ngữ Hà Nội vào năm 1967). Trường đại học Tổng hợp Hà Nội là một trường đại học khoa học cơ bản đa ngành, trực tiếp kế thừa truyền thống của Trường đại học Đông Dương và Trường đại học Quốc gia Việt Nam. Xét về đội ngũ cán bộ, cơ sở vật chất - kỹ thuật và chương trình đào tạo, ĐHQGHN ngày nay là sự nối tiếp truyền thống và uy tín của các trường đại học lớn ở Việt Nam từ Đại học Đông Dương, Đại học Quốc gia Việt Nam trước đây đến Trường đại học Tổng hợp Hà Nội và Trường đại học Sư phạm Ngoại ngữ Hà Nội sau này.\n",
      "Sau 10 năm xây dựng và phát triển, ĐHQGHN, một mô hình đại học đa ngành, đa lĩnh vực có quy mô lớn, có nhiệm vụ đào tạo nguồn nhân lực chất lượng cao và nhân tài khoa học, công nghệ cho đất nước, đã được khẳng định. Ngày 1/2/2001, Chính phủ ban hành Nghị định số 07/2001/NĐ-CP về Đại học Quốc gia. Đây là mốc lịch sử đánh dấu giai đoạn phát triển mới về quy mô và chất lượng của ĐHQGHN - một \"trung tâm đào tạo đại học, sau đại học, nghiên cứu và ứng dụng khoa học - công nghệ đa ngành, đa lĩnh vực, chất lượng cao\" hàng đầu, đóng vai trò đầu tàu của hệ thống giáo dục đại học của cả nước.\n",
      "Ngày 12/2/2001, Thủ tướng Chính phủ đã ký Quyết định số 16/2001/QĐ-TTg ban hành Quy chế về tổ chức và hoạt động của Đại học Quốc gia, khẳng định và tăng cường hơn nữa quyền tự chủ của các Đại học Quốc gia trong nhiều lĩnh vực hoạt động, đặc biệt là đào tạo, nghiên cứu khoa học - công nghệ, tổ chức cán bộ, kế hoạch - tài chính và hợp tác quốc tế.\n",
      "Thực hiện Nghị định của Chính phủ và Quy chế do Thủ tướng Chính phủ ban hành, thầy và trò ĐHQGHN đang nỗ lực phấn đấu xây dựng ĐHQGHN sớm trở thành một trung tâm đại học đa ngành, đa lĩnh vực, chất lượng cao, ngang tầm các đại học tiên tiến trong khu vực, tiến tới đạt trình độ quốc tế, xứng đáng với sự tin cậy của Đảng, Nhà nước và nhân dân.\n",
      "NHỮNG MỐC LỊCH SỬ CỦA ĐHQGHN\n",
      "1906\n",
      "Thành lập Trường Đại học Đông Dương, tiền thân của ĐHQGHN ngày nay (Quyết định số: 1514a, ngày 16/5/1906 của Toàn quyền Đông Dương). Trường ĐH Đông Dương đặt trụ sở tại 19 - Lê Thánh Tông - Hà Nội. Sau Cách mạng tháng Tám, cơ sở này thuộc về Trường ĐHQG Việt Nam; sau khi hoà bình lập lại ở miền Bắc do Trường ĐHTH Hà Nội quản lý, sử dụng và nay là một trong những cơ sở chính của ĐHQGHN.\n",
      "Trường Đại học Quốc gia Việt Nam khai giảng khoá đầu tiên vào 15/11/1945 dưới sự chủ toạ của Chủ tịch Hồ Chí Minh. Đây là trường đại học đa ngành, đa lĩnh vực đầu tiên được thành lập dưới chính thể Việt Nam Dân chủ Cộng hoà. Trường ĐHQG Việt Nam trực tiếp kế thừa truyền thống khoa học và giáo dục của Trường ĐH Đông Dương.\n",
      "Nhà nước ta thành lập Trường Khoa học Cơ bản (tại Chiến khu Việt Bắc). Đây là một trong những trường tiền thân của Trường đại học Tổng hợp Hà Nội sau này.\n",
      "Thành lập Trường đại học Tổng hợp Hà Nội - trường đại học khoa học cơ bản (khoa học Tự nhiên và khoa học Xã hội & Nhân văn) đầu tiên ở miền Bắc sau hoà bình lập lại. Trường ĐHTH Hà Nội trực tiếp kế thừa truyền thống và cơ sở vật chất, kỹ thuật của các Trường ĐH Đông Dương (1906), Trường ĐHQG Việt Nam (1945) và Trường Khoa học Cơ bản (1951).\n",
      "Thành lập Trường đại học Sư phạm Hà Nội, trong đó có khoa Ngoại ngữ, sau này tách ra thành Trường đại học Sư phạm Ngoại ngữ Hà Nội.\n",
      "(Cả hai trường đại học: ĐHTHHN và ĐHSPHN cùng chung Quyết định thành lập số 2183/TC ngày 4/6/1956 của Chính phủ).\n",
      "Thành lập Trường đại học Sư phạm Ngoại ngữ Hà Nội trên cơ sở khoa Ngoại ngữ của Trường ĐH Sư phạm Hà Nội I.\n",
      "Thành lập ĐHQGHN trên cơ sở tổ chức, sắp xếp lại 3 trường đại học lớn ở Hà Nội: ĐHTH Hà Nội, ĐHSP Hà Nội I và ĐHSP Ngoại ngữ Hà Nội. (Nghị định 93/CP ngày 10/12/1993 của Chính phủ). Đây là mô hình đại học đa ngành, đa lĩnh vực, kết hợp chặt chẽ đào tạo và nghiên cứu khoa học, được giao quyền tự chủ cao, được ưu tiên đầu tư về cơ sở vật chất và đội ngũ cán bộ để thực hiện đào tạo và nghiên cứu khoa học chất lượng cao.\n",
      "(Ảnh: Bùi Tuấn)\n",
      "ĐHQG Hà Nội chính thức bước vào hoạt động theo Quy chế Tổ chức và hoạt động do Thá»§ tướng Chính phá»§ ban hành ngày 5/9/1994.\n",
      "2001\n",
      "Chính phủ ban hành Nghị định số 07/2001/NĐ-CP ngày 1/2/2001 về ĐHQG; Thủ tướng Chính phủ ra Quyết định số 16/2001/QĐ-TTg ngày 12/2/2001 ban hành Quy chế về Tổ chức và hoạt động của ĐHQG; Quyết định số 14/2001/QĐ-TTg ngày 12/2/2001 về việc tổ chức lại ĐHQGHN. Đây là mốc lịch sử quan trọng đánh dấu bước phát triển mới của ĐHQGHN. Sau 8 năm xây dựng và phát triển, ĐHQGHN, một mô hình đại học đa ngành, đa lĩnh vực có quy mô lớn, hoạt động theo cơ chế tự chủ cao, có nhiệm vụ đào tạo nguồn nhân lực chất lượng cao và nhân tài khoa học, công nghệ cho đất nước, đã được khẳng định.\n",
      "2003\n",
      "Tháng 12 năm 2003 Giai đoạn I xây dá»±ng ĐHQGHN đã được khởi động.  Ngày 20 tháng 12 năm 2003 Thá»§ tướng Phan Văn Khải đã chính thức động thổ xây dá»±ng ĐHQGHN tại Hoà Lạc.( Chi tiết )\n",
      "2004\n",
      "Thành lập Viện Việt Nam học và Khoa học Phát triển trên cơ sở Trung tâm nghiên cứu Việt Nam và Giao lưu văn hóa\n",
      "Thành lập Trường Đại học Công nghệ trên cơ sở nâng cấp và phát triển Khoa Công nghệ\n",
      "2007\n",
      "Thành lập Trường Đại học Kinh tế trên cơ sở nâng cấp Khoa Kinh tế\n",
      "Thành lập Viện Vi sinh vật và Công nghệ sinh học trên cơ sở nâng cấp Trung tâm Công nghệ sinh học\n",
      "2009\n",
      "Thành lập Trường Đại học Giáo dục trên cÆ¡ sở nâng cấp Khoa Sư phạm, Trung tâm nghiên cứu Biển và đảo, Trung tâm Quốc tế nghiên cứu biến đổi toàn cầu, Trung tâm giáo dục Thể chất và Thể thao trên cÆ¡ sở sắp xếp và tổ chức lại các bộ môn giáo dục thể chất cá»§a các đơn vị đào tạo. Đổi tên để phù hợp với nhiệm vụ mới cá»§a 2 đơn vị: Trung tâm giáo dục Quốc phòng thành Trung tâm Giáo dục Quốc phòng và An ninh; Trung tâm Giáo dục sinh thái và môi trường Ba Vì thành Trung tâm Hỗ trợ đào tạo và Phát triển đô thị đại học. \n",
      "2010\n",
      "Đến tháng 5/2010 thành lập 3 Ä'Æ¡n vị mới là: Trung tâm Nghiên cứu Đô thị, Ban Quản lý và phát triển dá»± án, Khoa Y Dược.\n",
      "Ngày 10/6/2010, thành lập Trung tâm ứng dụng Công nghệ thông tin trên cÆ¡ sở  hợp nhất và tổ chức lại các đơn vị: Trung tâm Quản trị mạng VNUnet trá»±c thuộc Viện Công nghệ Thông tin, Trung tâm nghiên cứu và phát triển Công nghệ Phần mềm trá»±c thuộc Trường Đại học Công nghệ và Trung tâm Tích hợp dữ liệu trá»±c thuộc Văn phòng ĐHQGHN.\n",
      "Ngày 05/7/2010, Ä'ổi tên Trung tâm Đảm bảo chất lượng đào tạo và nghiên cứu phát triển giáo dục trá»±c thuộc ĐHQGHN thành Viện Đảm bảo chất lượng giáo dục.\n",
      "\n",
      " \n",
      "Đến nay ĐHQGHN có 6 trường đại học, 5 khoa trá»±c thuộc, 4 viện nghiên cứu, 10 trung tâm đào tạo và nghiên cứu, 10 đơn vị phục vụ đào tạo.\n",
      "2009\n",
      "Thành lập Trường Đại học Giáo dục trên cÆ¡ sở nâng cấp Khoa Sư phạm, Trung tâm nghiên cứu Biển và đảo, Trung tâm Quốc tế nghiên cứu biến đổi toàn cầu, Trung tâm giáo dục Thể chất và Thể thao trên cÆ¡ sở sắp xếp và tổ chức lại các bộ môn giáo dục thể chất cá»§a các đơn vị đào tạo. Đổi tên để phù hợp với nhiệm vụ mới cá»§a 2 đơn vị: Trung tâm giáo dục Quốc phòng thành Trung tâm Giáo dục Quốc phòng và An ninh; Trung tâm Giáo dục sinh thái và môi trường Ba Vì thành Trung tâm Hỗ trợ đào tạo và Phát triển đô thị đại học.\n",
      "2010\n",
      "Đến tháng 5/2010 thành lập 3 Ä'Æ¡n vị mới là: Trung tâm Nghiên cứu Đô thị, Ban Quản lý và phát triển dá»± án, Khoa Y Dược.\n",
      "Ngày 10/6/2010, thành lập Trung tâm ứng dụng Công nghệ thông tin trên cÆ¡ sở  hợp nhất và tổ chức lại các đơn vị: Trung tâm Quản trị mạng VNUnet trá»±c thuộc Viện Công nghệ Thông tin, Trung tâm nghiên cứu và phát triển Công nghệ Phần mềm trá»±c thuộc Trường Đại học Công nghệ và Trung tâm Tích hợp dữ liệu trá»±c thuộc Văn phòng ĐHQGHN.\n",
      "Ngày 05/7/2010, Ä'ổi tên Trung tâm Đảm bảo chất lượng đào tạo và nghiên cứu phát triển giáo dục trá»±c thuộc ĐHQGHN thành Viện Đảm bảo chất lượng giáo dục.\n",
      "Đến nay ĐHQGHN có 6 trường đại học, 5 khoa trá»±c thuộc, 4 viện nghiên cứu, 10 trung tâm đào tạo và nghiên cứu, 10 đơn vị phục vụ đào tạo.\n",
      "2008\n",
      "Thành lập Trung tâm Truyền thông và Quan hệ công chúng trên cơ sở tổ chức và sắp xếp lại Bản tin và Bộ phận website của ĐHQGHN\n",
      "1993\n",
      "1967\n",
      "1956\n",
      "1951\n",
      "1945\n"
     ]
    }
   ],
   "source": [
    "print(final_text)"
   ]
  },
  {
   "cell_type": "code",
   "execution_count": null,
   "metadata": {
    "id": "34RTx0dv-YbK"
   },
   "outputs": [],
   "source": [
    "#luu ket qua ra file\n",
    "\n",
    "output_dir = \"data\"\n",
    "output_file = os.path.join(output_dir, \"lich_su_hinh_thanh_vnu.txt\")\n",
    "\n",
    "with open(output_file, 'w', encoding='utf-8') as file:\n",
    "    file.write(final_text)"
   ]
  },
  {
   "cell_type": "code",
   "execution_count": null,
   "metadata": {
    "id": "OX2CTi10CNWQ"
   },
   "outputs": [],
   "source": [
    "#scrapping data tu wikipedia vnu\n",
    "url = \"https://vi.wikipedia.org/wiki/%C4%90%E1%BA%A1i_h%E1%BB%8Dc_Qu%E1%BB%91c_gia_H%C3%A0_N%E1%BB%99i\"\n",
    "page = requests.get(url)\n",
    "soup = BeautifulSoup(page.text, 'html')"
   ]
  },
  {
   "cell_type": "code",
   "execution_count": null,
   "metadata": {
    "id": "69cDgN39tgE7"
   },
   "outputs": [],
   "source": [
    "#trich xuat van ban\n",
    "#van ban can trich xuat nam trong the <p>\n",
    "paragraph = soup.find_all(\"p\")\n",
    "\n",
    "#lap qua tung the <p>\n",
    "clean_text = []\n",
    "for p in paragraph:\n",
    "  text = p.get_text().strip()\n",
    "  if text:\n",
    "    clean_text.append(text)\n",
    "\n",
    "#ket noi cac doan van ban\n",
    "final_text = \"\\n\".join(clean_text)\n",
    "\n",
    "#xu ly Unicode\n",
    "final_text = fix_text(final_text)"
   ]
  },
  {
   "cell_type": "code",
   "execution_count": null,
   "metadata": {
    "colab": {
     "base_uri": "https://localhost:8080/"
    },
    "executionInfo": {
     "elapsed": 60,
     "status": "ok",
     "timestamp": 1746671143133,
     "user": {
      "displayName": "Việt Anh Bùi",
      "userId": "14071907704536065243"
     },
     "user_tz": -420
    },
    "id": "IGGhbKFPtmFw",
    "outputId": "54af443a-501f-476c-b8f8-a57dd4ed2a50"
   },
   "outputs": [
    {
     "name": "stdout",
     "output_type": "stream",
     "text": [
      "Đại học Quốc gia Hà Nội (tiếng Anh: Vietnam National University, Hanoi, VNU),[6][a] mã đại học QH, là một trong hai hệ thống đại học quốc gia của Việt Nam, có trụ sở tại Hà Nội, được đánh giá là một trong 1000 đại học, trường đại học tốt nhất thế giới của Việt Nam.\n",
      "Đại học Quốc gia Hà Nội chịu sự chỉ đạo trực tiếp từ Thủ tướng Chính phủ, bao gồm các chương trình giáo dục đại học, sau đại học, nghiên cứu và ứng dụng khoa học - công nghệ, đa ngành có chất lượng cao và giữ vai trò quan trọng trong hệ thống giáo dục đại học ở Việt Nam.\n",
      "Nhiều văn bản của Đại học Quốc gia Hà Nội thường nhắc tới sự liên hệ với Viện Đại học Đông Dương được thành lập năm 1906 ở Hà Nội như một tiền thân của nhà trường,[6] với việc trụ sở cũ của Viện Đại học Đông Dương ở số 19 Lê Thánh Tông (Hà Nội) hiện nay là một trong số những trụ sở chính của Trường Đại học Tổng hợp Hà Nội.\n",
      "Năm 1951, trên chiến khu Việt Bắc, Chính phủ Liên hiệp Quốc dân thành lập Trường Khoa học Cơ bản. Đây là một trong những trường tiền thân của Trường Đại học Tổng hợp Hà Nội sau này.[7]\n",
      "Năm 1956, Trường Đại học Tổng hợp Hà Nội được thành lập theo Quyết định số 2183/TC ngày 04/6/1956 của Chính phủ[6] tại địa điểm cũ của Viện Đại học Đông Dương, và có giảng viên đến từ Trường Khoa học Cơ bản. Thời gian này, Trường Đại học Sư phạm Hà Nội cũng được thành lập; sau đổi thành Trường Đại học Sư phạm Hà Nội I.\n",
      "Năm 1967, Trường Đại học Sư phạm Ngoại ngữ Hà Nội được thành lập trên cơ sở các khoa ngoại ngữ (Nga văn, Trung văn, Anh văn và Pháp văn) của Trường Đại học Sư phạm Hà Nội\n",
      "Năm 1993, chính phủ Việt Nam tổ chức lại ba trường đại học lớn hiện có tại Hà Nội là: Trường Đại học Tổng hợp Hà Nội, Trường Đại học Sư phạm Hà Nội I (cũ) và Trường Đại học Sư phạm Ngoại ngữ Hà Nội thành cơ sở giáo dục lấy tên là Đại học Quốc gia Hà Nội.[8]\n",
      "Trước năm 2000, ĐHQGHN có 5 trường đại học, 1 viện nghiên cứu: Trường Đại học Khoa học Tự nhiên, Trường Đại học Khoa học Xã hội và Nhân văn, Trường Đại học Ngoại ngữ, Trường Đại học Sư phạm, Trường Đại học Đại cương và một số đơn vị khác.\n",
      "Năm 1998, Chính phủ ban hành Nghị định về việc xóa bỏ Trường Đại học Đại cương.\n",
      "Năm 1999, Trường Đại học Sư phạm lại tách khỏi Đại học Quốc gia Hà Nội thành Trường Đại học Sư phạm Hà Nội.[6] Vào thời điểm này, Đại học Quốc gia Hà Nội mới có các ngành và lĩnh vực: toán và khoa học tự nhiên, công nghệ thông tin và điện tử viễn thông (Trường Đại học Khoa học Tự nhiên), khoa học xã hội và nhân văn, kinh tế, luật (Trường Đại học Khoa học Xã hội và Nhân văn) và ngoại ngữ (Trường Đại học Ngoại ngữ).\n",
      "Ngày 25 tháng 5 năm 2004, thành lập Trường Đại học Công nghệ trên cơ sở nâng cấp và phát triển Khoa Công nghệ và Trung tâm Hợp tác Đào tạo và Bồi dưỡng Cơ học trực thuộc Đại học Quốc gia Hà Nội.\n",
      "Ngày 6 tháng 3 năm 2007, thành lập Trường Đại học Kinh tế trên cơ sở Khoa Kinh tế.\n",
      "Ngày 3 tháng 4 năm 2009, thành lập Trường Đại học Giáo dục trên cơ sở Khoa Sư phạm.\n",
      "Ngày 9 tháng 9 năm 2016, thành lập Trường Đại học Việt - Nhật dựa trên ý tưởng của lãnh đạo cấp cao hai nước Việt Nam và Nhật Bản.\n",
      "Ngày 27 tháng 10 năm 2020, thành lập Trường Đại học Y Dược trên cơ sở Khoa Y Dược.\n",
      "Ngày 1 tháng 12 năm 2021, thành lập Trường Quốc tế và Trường Quản trị và Kinh doanh trên cơ sở Khoa Quốc tế và Khoa Quản trị và Kinh doanh.\n",
      "Ngày 23 tháng 9 năm 2022, thành lập Trường Đại học Luật trên cơ sở Khoa Luật.[9]\n",
      "Ngày 29 tháng 1 năm 2024 thành lập Trường Khoa học liên ngành và Nghệ thuật dựa trên cơ sở Khoa Các khoa học liên ngành.[10]\n",
      "Tính đến nay, ĐHQGHN đã có 9 trường đại học thành viên; 3 trường và 1 khoa trực thuộc; 6 viện nghiên cứu khoa học thành viên, trực thuộc; 2 trung tâm đào tạo môn chung; 5 viện nghiên cứu khoa học thành viên, 2 viện nghiên cứu khoa học trực thuộc, 14 đơn vị dịch vụ và phục vụ trực thuộc; có 4 trường THPT thuộc các trường thành viên của ĐHQGHN; 1 trường THCS.\n",
      "Cơ quan ĐHQGHN (07)\n",
      "Ngoài các đơn vị đào tạo bậc đại học và sau đại học, Đại học Quốc gia Hà Nội còn có các đơn vị đào tạo bậc phổ thông trực thuộc các trường đại học thành viên, bao gồm:\n",
      "Các đơn vị thực hiện nhiệm vụ đặc biệt (09)\n",
      "Hiệu trưởng các trường đại học thành viên, thủ trưởng các đơn vị trực thuộc do Giám đốc Đại học Quốc gia Hà Nội bổ nhiệm.\n",
      "Đại học Quốc gia Hà Nội hiện có khoảng 4.393 giảng viên và nhân viên[11]; là đại học có số lượng GS, PGS, TSKH, TS hàng đầu tại Việt Nam với:\n",
      "Đại học Quốc gia Hà Nội là nơi tập trung đông đảo các giáo sư đầu ngành; lượng giảng viên có học vị thạc sĩ trở lên chiếm 90%.\n",
      "Đại học Quốc gia Hà Nội là trung tâm đào tạo, nghiên cứu khoa học, công nghệ đa ngành, đa lĩnh vực chất lượng cao, được Nhà nước ưu tiên đầu tư phát triển. Hiện tại,Đại học Quốc gia Hà Nội đang triển khai nhiều chương trình đào tạo thuộc các lĩnh vực khoa học tự nhiên, khoa học xã hội và nhân văn, ngoại ngữ, công nghệ, kinh tế, giáo dục, liên ngành,..., bao gồm:\n",
      "Đại học Quốc gia Hà Nội có 7 cơ sở tại:\n",
      "Trụ sở trước đây của Đại học Quốc gia Hà Nội tọa lạc tại địa chỉ: số 144 Xuân Thủy, quận Cầu Giấy, Hà Nội. Kể từ ngày 19 tháng 5 năm 2022, Cơ quan ĐHQGHN chính thức chuyển chuyển trụ sở làm việc từ 144 Xuân Thủy, Cầu Giấy, Hà Nội tới Hòa Lạc, Thạch Thất, Hà Nội.[13]\n",
      "Ngày 27 tháng 1 năm 1995, Thủ tướng Chính phủ có Quyết định số 72/TTg về địa điểm Đại học Quốc gia Hà Nội và Đại học Quốc gia Thành phố Hồ Chí Minh. Theo quyết định này, diện tích đất để quy hoạch xây dựng Đại học Quốc gia Hà Nội là 1000 ha, nằm trong phạm vi đất Nông trường 1A thuộc huyện Thạch Thất, tỉnh Hà Tây (nay là Hà Nội).\n",
      "Ngày 23 tháng 8 năm 2002, Thủ tướng Chính phủ có Quyết định số 702/QĐ-TTg phê duyệt điều chỉnh quy hoạch chung Đại học Quốc gia Hà Nội tại Hòa Lạc.[14] Số vốn dành cho dự án này tại thời điểm đó là 7320 tỷ đồng. Sau khi hoàn thành, Đại học Quốc gia Hà Nội sẽ trở thành một khu đô thị đại học lớn nhất Việt Nam, với đầy đủ các công trình công cộng bên trong như trường học, bưu điện, bệnh viện, trạm xe buýt, công viên và các khu vui chơi giải trí khác.\n",
      "Mục tiêu là đến năm 2015 sẽ đưa một số đơn vị trực thuộc lên cơ sở Hòa Lạc, và vào năm 2025 sẽ chuyển toàn bộ Đại học Quốc gia Hà Nội cùng các cơ sở trực thuộc lên cơ sở mới tại Hòa Lạc. Ngày 30 tháng 9 năm 2008, Thủ tướng Chính phủ có Quyết định số 1404/QĐ-TTg về việc chuyển chủ đầu tư dự án xây dựng Đại học Quốc gia Hà Nội tại Hoà Lạc từ Đại học Quốc gia Hà Nội sang Bộ Xây dựng[15] Số vốn dành cho dự án được ước tính sẽ vào khoảng 2.5 tỉ USD.\n",
      "Ngày 20 tháng 12 năm 2004, Thủ tướng Chính phủ Phan Văn Khải đã dự và phát lệnh khởi công Đại học Quốc gia Hà Nội tại Hòa Lạc.\n",
      "Tháng 12 năm 2014, Đại học Quốc gia Hà Nội đã tiếp nhận các cơ sở đầu tiên tại Hòa Lạc để đưa vào khai thác, sử dụng là khu Nhà công vụ, khu Ký túc xá số 4.\n",
      "Ngày 20 tháng 12 năm 2014, Chủ tịch nước Trương Tấn Sang đã tham dự lễ động thổ Trường Đại học Việt - Nhật thuộc Đại học Quốc gia Hà Nội.\n",
      "Viện Đại học Đông Dương  •  \n",
      "Trường Đại học Quốc gia Việt Nam  •  \n",
      "Trường Đại học Tổng hợp Hà Nội  •  \n",
      "Đại học Quốc gia Hà Nội\n",
      "AUN  •  \n",
      "BESETOHA  •  \n",
      "Đại học trọng điểm Quốc gia Việt Nam\n"
     ]
    }
   ],
   "source": [
    "print(final_text)"
   ]
  },
  {
   "cell_type": "code",
   "execution_count": null,
   "metadata": {
    "id": "ZE7CiACstofc"
   },
   "outputs": [],
   "source": [
    "#luu ket qua ra file\n",
    "\n",
    "output_dir = \"data\"\n",
    "output_file = os.path.join(output_dir, \"wikipedia_vnu.txt\")\n",
    "\n",
    "with open(output_file, 'w', encoding='utf-8') as file:\n",
    "    file.write(final_text)"
   ]
  },
  {
   "cell_type": "code",
   "execution_count": null,
   "metadata": {
    "id": "dtP4gwvrt211"
   },
   "outputs": [],
   "source": [
    "#scrapping data ve thong tin tuyen sinh vnu\n",
    "url = \"https://vnu.edu.vn/ttsk/?C2495/N34669/Thong-tin-tuyen-sinh-dai-hoc-chinh-quy-nam-2024-cua-dHQGHN.htm\"\n",
    "page = requests.get(url)\n",
    "soup = BeautifulSoup(page.text, 'html')"
   ]
  },
  {
   "cell_type": "code",
   "execution_count": null,
   "metadata": {
    "id": "i3ZSE2GVu6iw"
   },
   "outputs": [],
   "source": [
    "#trich xuat van ban\n",
    "#van ban can trich xuat nam trong the <p>\n",
    "paragraph = soup.find_all(\"p\")\n",
    "\n",
    "#lap qua tung the <p>\n",
    "clean_text = []\n",
    "for p in paragraph:\n",
    "  text = p.get_text().strip()\n",
    "  if text:\n",
    "    clean_text.append(text)\n",
    "\n",
    "#ket noi cac doan van ban\n",
    "final_text = \"\\n\".join(clean_text)\n",
    "\n",
    "#xu ly Unicode\n",
    "final_text = fix_text(final_text)"
   ]
  },
  {
   "cell_type": "code",
   "execution_count": null,
   "metadata": {
    "colab": {
     "base_uri": "https://localhost:8080/"
    },
    "executionInfo": {
     "elapsed": 62,
     "status": "ok",
     "timestamp": 1746671623301,
     "user": {
      "displayName": "Việt Anh Bùi",
      "userId": "14071907704536065243"
     },
     "user_tz": -420
    },
    "id": "Br82xJXGvbca",
    "outputId": "2fb56521-f8c7-4580-cea1-a1364680baef"
   },
   "outputs": [
    {
     "name": "stdout",
     "output_type": "stream",
     "text": [
      "Các thông tin cơ bản về tuyển sinh ĐHCQ của ĐHQGHN năm 2024 dành cho thí sinh\n",
      ">>> [THAM KHẢO] Điểm chuẩn (điểm trúng tuyển) đại học chính quy năm 2023\n",
      ">>> Đề án tuyển sinh đại học năm 2024 của ĐHQGHN\n",
      "1. Đối tượng, điều kiện tuyển sinh\n",
      "a) Đối tượng dự tuyển được xác định tại thời điểm xét tuyển (trước khi công bố kết quả xét tuyển chính thức), bao gồm:\n",
      "- Người đã được công nhận tốt nghiệp THPT của Việt Nam hoặc có bằng tốt nghiệp của nước ngoài được công nhận trình độ tương đương;\n",
      "- Người đã có bằng tốt nghiệp trung cấp ngành nghề thuộc cùng nhóm ngành dự tuyển và đã hoàn thành đủ yêu cầu khối lượng kiến thức văn hóa cấp THPT theo quy định của pháp luật (sau đây gọi chung là tốt nghiệp THPT);\n",
      "b) Đối tượng dự tuyển phải đáp ứng các điều kiện sau:\n",
      "- Đạt ngưỡng đầu vào theo quy định của đơn vị đào tạo và của ĐHQGHN;\n",
      "- Có đủ sức khoẻ để học tập theo quy định hiện hành;\n",
      "- Có đủ thông tin cá nhân, hồ sơ dự tuyển theo quy định;\n",
      "- Đạt các yêu cầu sơ tuyển, nếu đăng kí xét tuyển (ĐKXT) hoặc dự thi vào các đơn vị (các trường/khoa) có quy định sơ tuyển, thi năng khiếu.\n",
      "2. Phạm vi tuyển sinh: ĐHQGHN tuyển sinh trên cả nước và quốc tế.\n",
      "3. Phương thức tuyển sinh\n",
      "a) Thí sinh thuộc đối tượng xét tuyển thẳng, ưu tiên xét tuyển và dự bị đại học, người nước ngoài xét tuyển theo Quy chế tuyển sinh của Bộ GD&ĐT và Quy chế, Quy định đặc thù của ĐHQGHN;\n",
      "b) Thí sinh sử dụng kết quả kỳ thi tốt nghiệp THPT năm 2024 đạt ngưỡng đảm bảo chất lượng đầu vào (ngưỡng đầu vào) do ĐHQGHN quy định;\n",
      "c) Thí sinh có kết quả thi ĐGNL do ĐHQGHN tổ chức đạt tối thiểu 80/150 điểm trở lên;\n",
      "d) Xét tuyển theo các phương thức khác:\n",
      "- Thí sinh có kết quả thi ĐGNL của ĐHQG TP.Hồ Chí Minh đạt tối thiểu 750/1200 điểm trở lên;\n",
      "- Thí sinh có chứng chỉ quốc tế của Trung tâm Khảo thí Đại học Cambridge, Anh (Cambridge International Examinations A-Level, UK; sau đây gọi tắt là chứng chỉ A-Level) có kết quả 3 môn thi trong đó bắt buộc có môn Toán hoặc Ngữ văn theo tổ hợp quy định của ngành đào tạo tương ứng đảm bảo mức điểm mỗi môn thi đạt tối thiểu 60/100 điểm (tương ứng điểm C, PUM range ≥ 60);\n",
      "- Thí sinh có kết quả trong kỳ thi chuẩn hóa SAT (Scholastic Assessment Test, Hoa Kỳ) đạt tối thiểu 1100/1600 điểm trở lên. Mã đăng ký của ĐHQGHN với tổ chức thi SAT (The College Board) là 7853-Vietnam National University-Hanoi (thí sinh cần khai báo mã đăng ký trên khi đăng ký thi SAT);\n",
      "- Thí sinh có kết quả trong kỳ thi chuẩn hóa ACT (American College Testing) đạt tối thiểu 22/36 điểm trở lên;\n",
      "- Thí sinh có chứng chỉ tiếng Anh IELTS tối thiểu 5.5 điểm hoặc các chứng chỉ tiếng Anh quốc tế tương đương (Phụ lục 1) hoặc các chứng chỉ ngoại ngữ khác (Phụ lục 2) và có tổng điểm 2 môn thi còn lại trong tổ hợp xét tuyển (trong đó bắt buộc có môn Toán hoặc môn Ngữ văn) đạt tối thiểu 14 điểm trong kỳ thi tốt nghiệp THPT của năm tuyển sinh.\n",
      "- Thí sinh là người Việt Nam đã tốt nghiệp THPT hoặc tương đương ở nước ngoài có kết quả học tập 3 môn học bậc THPT theo tổ hợp môn xét tuyển tương ứng của ngành học kết hợp với kiểm tra kiến thức chuyên môn và năng lực Tiếng Việt hoặc năng lực ngoại ngữ (tùy theo yêu cầu của ngành học để xét tuyển) đáp ứng quy định hiện hành của Bộ GD&ĐT và của ĐHQGHN.\n",
      "Ngoài các phương thức tuyển sinh trên, một số đơn vị có ngành/chương trình đào tạo/lĩnh vực đặc thù có phương thức tuyển sinh riêng (thi năng khiếu hoặc phỏng vấn kết hợp với kết quả học tập cấp THPT/kết quả thi tốt nghiệp THPT/kết quả thi ĐGNL/chứng chỉ quốc tế, chứng chỉ ngoại ngữ VSTEP) được công bố cụ thể trong Đề án tuyển sinh thành phần của các đơn vị (sau đây gọi tắt là Đề án thành phần).\n",
      "4. Chỉ tiêu tuyển sinh\n",
      "- Đại học Quốc gia Hà Nội: 18.000 chỉ tiêu\n",
      "4.1. Các trường đại học thành viên\n",
      "- Trường ĐH Khoa học Tá»± nhiên: 1.850 chỉ tiêu\n",
      "- Trường ĐH Khoa học Xã hội và Nhân văn: 2.300 chỉ tiêu\n",
      "- Trường ĐH Ngoại ngữ: 2.000 chỉ tiêu\n",
      "- Trường ĐH Công nghệ: 2.960 chỉ tiêu\n",
      "- Trường ĐH Kinh tế: 2.350 chỉ tiêu\n",
      "- Trường ĐH Giáo dục: 1.150 chỉ tiêu\n",
      "- Trường ĐH Việt Nhật: 450 chỉ tiêu\n",
      "- Trường ĐH Y Dược: 640 chỉ tiêu\n",
      "- Trường ĐH Luật: 1.150 chỉ tiêu\n",
      "4.2. Các trường, khoa trực thuộc\n",
      "- Trường Quốc tế: 1.500 chỉ tiêu\n",
      "- Trường Quản trị và Kinh doanh: 500 chỉ tiêu\n",
      "- Trường Khoa học liên ngành và Nghệ thuật: 950 chỉ tiêu\n",
      "- Khoa Quốc tế Pháp ngữ: 200 chỉ tiêu\n",
      "5. Các thông tin về tuyển sinh đại học chính quy năm 2024 trên website ĐHQGHN\n",
      "5.1. Tin tức trên website ĐHQGHN\n",
      "- Công tác tuyển sinh năm 2024: Nhiều phương thức tuyển sinh mới sẽ được xem xét phê duyệt\n",
      "- Ngày hội tư vấn tuyển sinh - hướng nghiệp 2024: ĐHQGHN dự kiến tuyển sinh gần 18.000 chỉ tiêu vào các ngành/chương trình đào tạo\n",
      "- VNU-UET: Lần đầu tiên tuyển sinh ngành Thiết kế công nghiệp và Đồ họa\n",
      "- Ngành Nghệ thuật thị giác: Đưa nghệ thuật sáng tạo Việt Nam vươn mình ra thế giới\n",
      "- ĐHQGHN tiên phong đào tạo kiến trúc sư chuyên ngành Kiến trúc và Thiết kế cảnh quan\n",
      "- VNU-UED: Lần đầu tiên tuyển sinh bậc đại học ngành Tâm lý học, chuyên ngành Tâm lý học lâm sàng trẻ em và vị thành niên\n",
      "- VNU-USSH: ngành Điện ảnh và Nghệ thuật Đại chúng góp phần đào tạo nhân lực kinh tế sáng tạo trong lĩnh vực văn hóa\n",
      "- Nguồn cung ứng nhân lực chất lượng cao trong lĩnh vực công nghệ - kỹ thuật\n",
      "5.2. Thông tin bằng hình ảnh (Infographic)\n",
      "- [Infographic] Thông tin tuyển sinh ĐHCQ năm 2024 của ĐHQGHN\n",
      "- [Infographic] Thông tin tuyển sinh ĐHCQ năm 2024 của Trường ĐH Khoa học Tự nhiên\n",
      "- [Infographic] Thông tin tuyển sinh ĐHCQ năm 2024 của Trường ĐH Khoa học Xã hội và Nhân văn\n",
      "- [Infographic] Thông tin tuyển sinh ĐHCQ năm 2024 của Trường ĐH Ngoại ngữ\n",
      "- [Infographic] Thông tin tuyển sinh ĐHCQ năm 2024 của Trường ĐH Công nghệ\n",
      "- [Infographic] Thông tin tuyển sinh ĐHCQ năm 2024 của Trường ĐH Kinh tế\n",
      "- [Infographic] Thông tin tuyển sinh ĐHCQ năm 2024 của Trường ĐH Giáo dục\n",
      "- [Infographic] Thông tin tuyển sinh ĐHCQ năm 2024 của Trường ĐH Việt Nhật\n",
      "- [Infographic] Thông tin tuyển sinh ĐHCQ năm 2024 của Trường ĐH Y Dược\n",
      "- [Infographic] Thông tin tuyển sinh ĐHCQ năm 2024 của Trường ĐH Luật\n",
      "- [Infographic] Thông tin tuyển sinh ĐHCQ năm 2024 của Trường Quản trị và Kinh doanh\n",
      "- [Infographic] Thông tin tuyển sinh ĐHCQ năm 2024 của Trường Quốc tế\n",
      "- [Infographic] Thông tin tuyển sinh ĐHCQ năm 2024 của Trường Khoa học liên ngành và Nghệ thuật\n",
      "- [Infographic] Thông tin tuyển sinh ĐHCQ năm 2024 của Khoa Quốc tế Pháp ngữ\n",
      "- [Infographic] Bảng quy đổi điểm chứng chỉ tiếng Anh quốc tế\n",
      "- [Infographic] Những điểm mới của kỳ thi tốt nghiệp THPT năm 2024\n",
      "- [Infographic] Lịch thi tốt nghiệp THPT năm 2024\n",
      "- [Infographic] Các mốc thời gian tuyển sinh đại học chính quy năm 2024 của ĐHQGHN\n",
      "- [Infographic] Các hội đồng tuyển sinh của ĐHQGHN năm 2024\n",
      "- [Infographic] Chương trình đào tạo bằng kép - \"đặc sản\" trong đào tạo của ĐHQGHN\n",
      "- [Infographic] Chương trình đào tạo Nghệ thuât thị giác\n",
      "- [Infographic] Chương trình đào tạo Kiến trúc và Thiết kế cảnh quan\n",
      "- [Infographic] Lần đầu tiên ĐHQGHN đào tạo bậc cử nhân Điện ảnh và Nghệ thuật đại chúng\n",
      "- [Infographic] Chương trình đào tạo Tâm lý học (chuyên ngành Tâm lí học lâm sàng trẻ em và vị thành niên)\n",
      "- [Infographic] Chương trình đào tạo Truyền thông số\n",
      "5.3. Video\n",
      "6. Các thông tin về kỳ thi ĐGNL học sinh THPT năm 2024\n",
      "- Phổ điểm kỳ thi đánh giá năng lực của Đại học Quốc gia Hà Nội năm 2024\n",
      "- ĐHQGHN công bố cấu trúc bài thi Đánh giá Năng lực năm 2025\n",
      "- Trong 3 đợt thi HSA đầu tiên năm 2024 của ĐHQGHN: Thí sinh cao điểm nhất đạt 129/150 điểm\n",
      "- Hơn 18 nghìn thí sinh dự thi Đánh giá năng lực đợt 2 năm 2024 của ĐHQGHN\n",
      "- Hơn 11.000 thí sinh tham gia kỳ thi Đánh giá năng lực đợt 1 của Đại học Quốc gia Hà Nội\n",
      "- Năm 2024, ĐHQGHN giữ ổn định phương thức và cấu trúc bài thi đánh giá năng lực\n",
      "- ĐHQGHN công bố thời gian và điểm thi Đánh giá năng lực (HSA) học sinh trung học phổ thông năm 2024\n",
      "- Kỳ thi Đánh giá năng lực của ĐHQGHN năm 2025: Nhiều đổi mới trong cấu trúc đề thi theo chương trình giáo dục phổ thông ban hành năm 2018\n",
      ">>> Danh mục các chương trình đào tạo đại học tại ĐHQGHN\n",
      ">>> Quy chế đào tạo bậc đại học tại ĐHQGHN\n",
      ">>> Quy chế công tác sinh viên tại ĐHQGHN\n",
      "- [Infographic] Chương trình đào tạo Kinh doanh số\n",
      "- [Infographic] Chương trình đào tạo Thiết kế công nghiệp và đồ họa\n",
      "- [Infographic] Tổ hợp xét tuyển đại học chính quy năm 2024\n",
      "- [Infographic] Sửa đổi, bổ sung một số nội dung trong Quy chế tuyển sinh ĐHCQ tại ĐHQGHN\n",
      "- [Infographic] Quy định về Xét tuyển thẳng, ưu tiên xét tuyển học sinh THPT vào đại học tại ĐHQGHN\n",
      "HÌNH ẢNH\n",
      "HÌNH ẢNH\n",
      "HÌNH ẢNH\n",
      "HÌNH ẢNH\n",
      "HÌNH ẢNH\n",
      "HÌNH ẢNH\n",
      "HÌNH ẢNH\n",
      "HÌNH ẢNH\n",
      "Trang diễn đàn   |    Diễn đàn Học sinh - Sinh viên  |    Diễn đàn Đoàn Thanh niên cộng sản Hồ Chí Minh  |    Diễn đàn Phụ huynh Học sinh - Sinh viên\n",
      "Copyright ®2010, ĐẠI HỌC QUỐC GIA HÀ NỘI  - 144 Đường Xuân Thủy,QuậnCầu Giấy, Hà Nội, Việt Nam,  Điều khoản sử dụng  |   Bản quyền khiếu nại\n"
     ]
    }
   ],
   "source": [
    "print(final_text)"
   ]
  },
  {
   "cell_type": "code",
   "execution_count": null,
   "metadata": {
    "id": "5BRl1miWvdt3"
   },
   "outputs": [],
   "source": [
    "#luu ket qua ra file\n",
    "\n",
    "output_dir = \"data\"\n",
    "output_file = os.path.join(output_dir, \"thong_tin_tuyen_sinh_vnu.txt\")\n",
    "\n",
    "with open(output_file, 'w', encoding='utf-8') as file:\n",
    "    file.write(final_text)"
   ]
  },
  {
   "cell_type": "code",
   "execution_count": 5,
   "metadata": {
    "executionInfo": {
     "elapsed": 1160,
     "status": "ok",
     "timestamp": 1746838462927,
     "user": {
      "displayName": "Việt Anh Bùi",
      "userId": "14071907704536065243"
     },
     "user_tz": -420
    },
    "id": "eqiP1TQNvlzm"
   },
   "outputs": [],
   "source": [
    "#scrapping data tu trang tuyen sinh ULIS\n",
    "url = \"https://ulis.vnu.edu.vn/thongtin-tuyensinh-daihoc-chinhquy-2025/\"\n",
    "page = requests.get(url)\n",
    "soup = BeautifulSoup(page.text, 'html')"
   ]
  },
  {
   "cell_type": "code",
   "execution_count": 6,
   "metadata": {
    "executionInfo": {
     "elapsed": 10,
     "status": "ok",
     "timestamp": 1746838483468,
     "user": {
      "displayName": "Việt Anh Bùi",
      "userId": "14071907704536065243"
     },
     "user_tz": -420
    },
    "id": "n_SGcZttr5wu"
   },
   "outputs": [],
   "source": [
    "#trich xuat van ban\n",
    "#van ban can trich xuat nam trong the <p>\n",
    "paragraph = soup.find_all(\"p\")\n",
    "\n",
    "#lap qua tung the <p>\n",
    "clean_text = []\n",
    "for p in paragraph:\n",
    "  text = p.get_text().strip()\n",
    "  if text:\n",
    "    clean_text.append(text)\n",
    "\n",
    "#ket noi cac doan van ban\n",
    "final_text = \"\\n\".join(clean_text)\n",
    "\n",
    "#xu ly Unicode\n",
    "final_text = fix_text(final_text)"
   ]
  },
  {
   "cell_type": "code",
   "execution_count": 7,
   "metadata": {
    "colab": {
     "base_uri": "https://localhost:8080/"
    },
    "executionInfo": {
     "elapsed": 38,
     "status": "ok",
     "timestamp": 1746838492759,
     "user": {
      "displayName": "Việt Anh Bùi",
      "userId": "14071907704536065243"
     },
     "user_tz": -420
    },
    "id": "9znUhwB3r_Dz",
    "outputId": "880a6611-57b2-4ffe-81cf-dc682ab61489"
   },
   "outputs": [
    {
     "name": "stdout",
     "output_type": "stream",
     "text": [
      "1. Các ngành tuyển sinh và chỉ tiêu\n",
      "2. Phương thức và đối tượng tuyển sinh\n",
      "2.1. Phương thức 1: Xét tuyển thẳng theo Quy chế tuyển sinh của Bộ GD&ĐT\n",
      "2.2. Phương thức 2: Xét tuyển bằng kết quả thi tốt nghiệp THPT năm 2025\n",
      "Điểm xét tuyển = [(Điểm môn 1 + Điểm môn 2 + (Điểm Ngoại ngữ x 2))/4 x 3] + điểm thưởng + điểm ưu tiên (nếu có)\n",
      "Điểm thưởng: xem chi tiết tại mục 4\n",
      "Điểm ưu tiên = [(30 – Tổng điểm đạt được đã bao gồm điểm thưởng)/7,5] × Mức điểm ưu tiên khu vực, đối tượng\n",
      "2.3. Phương thức 3: Xét tuyển chứng chỉ ngoại ngữ kết hợp với kết quả thi tốt nghiệp THPT năm 2025\n",
      "Điểm xét tuyển = [(Điểm môn 1 + Điểm môn 2 + (Điểm quy đổi chứng chỉ sang thang điểm 10 x 2))/4 x 3] + điểm thưởng + điểm ưu tiên (nếu có)\n",
      "Điểm thưởng: xem chi tiết tại mục 4\n",
      "Điểm ưu tiên = [(30 – Tổng điểm đạt được đã bao gồm điểm thưởng)/7,5] × Mức điểm ưu tiên khu vực, đối tượng\n",
      "2.4. Phương thức 4: Xét tuyển bằng kết quả bài thi Đánh giá năng lực học sinh THPT do ĐHQGHN tổ chức\n",
      "2.5. Phương thức 5: Xét tuyển chứng chỉ kết hợp với kết quả học tập bậc THPT\n",
      "Điểm xét tuyển = [(Điểm môn 1 + Điểm môn 2 + (Điểm quy đổi chứng chỉ sang thang điểm 10 x 2))/4 x 3] + điểm thưởng + điểm ưu tiên (nếu có)\n",
      "Điểm thưởng: xem chi tiết tại mục 4\n",
      "Điểm ưu tiên = [(30 – Tổng điểm đạt được đã bao gồm điểm thưởng)/7,5] × Mức điểm ưu tiên khu vực, đối tượng\n",
      "3. Danh sách tổ hợp xét tuyển, chứng chỉ ngoại ngữ sử dụng trong tuyển sinh đại học chính quy năm 2025\n",
      "3.1. Danh sách các tổ hợp xét tuyển vào Trường Đại học Ngoại ngữ, ĐHQGHN năm 2025\n",
      "3.2. Danh sách các chứng chỉ ngoại ngữ sử dụng trong tuyển sinh đại học chính quy năm 2025 của Trường Đại học Ngoại ngữ, ĐHQGHN\n",
      "3.3. Bảng quy đổi chứng chỉ ngoại ngữ sang thang điểm 10 sử dụng trong tuyển sinh đại học chính quy năm 2025 của Trường Đại học Ngoại ngữ, ĐHQGHN\n",
      "Tiếng Anh\n",
      "Tiếng Nga\n",
      "Tiếng Pháp\n",
      "Tiếng Trung\n",
      "Tiếng Đức\n",
      "Tiếng Nhật\n",
      "Tiếng Hàn\n",
      "Ghi chú:\n",
      "4. Điểm thưởng\n",
      "4.1. Điều kiện cộng điểm thưởng\n",
      "Ghi chú:\n",
      "4.2. Bảng điểm thưởng\n",
      "4.2.1. Điểm thưởng dành cho thí sinh đạt giải trong các kỳ thi\n",
      "4.2.2. Điểm thưởng dành cho thí sinh tham gia Chương trình VNU 12+\n",
      "4.2.3. Điểm thưởng dành cho thí sinh có chứng chỉ quốc tế\n",
      "Ghi chú:\n",
      "5. Các mốc thời gian (căn cứ theo lịch trình của Bộ GD&ĐT)\n",
      "6. Các kênh thông tin truyền thông chính thức\n",
      "CÁC TIN BÀI LIÊN QUAN\n",
      "Địa chỉ: Đường Phạm Văn Đồng – Quận Cầu Giấy – Hà Nội\n",
      "Tel: (+84)243.754.7269\n",
      "Fax: (+84)243.754.8057\n",
      "Email: dhnn@vnu.edu.vn\n"
     ]
    }
   ],
   "source": [
    "print(final_text)"
   ]
  },
  {
   "cell_type": "code",
   "execution_count": 8,
   "metadata": {
    "executionInfo": {
     "elapsed": 13,
     "status": "ok",
     "timestamp": 1746838597323,
     "user": {
      "displayName": "Việt Anh Bùi",
      "userId": "14071907704536065243"
     },
     "user_tz": -420
    },
    "id": "iJYKBoUlsBUl"
   },
   "outputs": [],
   "source": [
    "#luu ket qua ra file\n",
    "\n",
    "output_dir = \"data\"\n",
    "output_file = os.path.join(output_dir, \"thong_tin_tuyen_sinh_ulis.txt\")\n",
    "\n",
    "with open(output_file, 'w', encoding='utf-8') as file:\n",
    "    file.write(final_text)"
   ]
  },
  {
   "cell_type": "code",
   "execution_count": 9,
   "metadata": {
    "executionInfo": {
     "elapsed": 2196,
     "status": "ok",
     "timestamp": 1746838786764,
     "user": {
      "displayName": "Việt Anh Bùi",
      "userId": "14071907704536065243"
     },
     "user_tz": -420
    },
    "id": "YeUd6MYotAU7"
   },
   "outputs": [],
   "source": [
    "#scrapping data tu trang tuyen sinh du hoc sinh vnu\n",
    "url = \"http://admissions.vnu.edu.vn/index.php/Home/viewstatic/9\"\n",
    "page = requests.get(url)\n",
    "soup = BeautifulSoup(page.text, 'html')"
   ]
  },
  {
   "cell_type": "code",
   "execution_count": 10,
   "metadata": {
    "executionInfo": {
     "elapsed": 48,
     "status": "ok",
     "timestamp": 1746838800255,
     "user": {
      "displayName": "Việt Anh Bùi",
      "userId": "14071907704536065243"
     },
     "user_tz": -420
    },
    "id": "VpCQIXzVtIkl"
   },
   "outputs": [],
   "source": [
    "#trich xuat van ban\n",
    "#van ban can trich xuat nam trong the <p>\n",
    "paragraph = soup.find_all(\"p\")\n",
    "\n",
    "#lap qua tung the <p>\n",
    "clean_text = []\n",
    "for p in paragraph:\n",
    "  text = p.get_text().strip()\n",
    "  if text:\n",
    "    clean_text.append(text)\n",
    "\n",
    "#ket noi cac doan van ban\n",
    "final_text = \"\\n\".join(clean_text)\n",
    "\n",
    "#xu ly Unicode\n",
    "final_text = fix_text(final_text)"
   ]
  },
  {
   "cell_type": "code",
   "execution_count": 11,
   "metadata": {
    "colab": {
     "base_uri": "https://localhost:8080/"
    },
    "executionInfo": {
     "elapsed": 339,
     "status": "ok",
     "timestamp": 1746838809211,
     "user": {
      "displayName": "Việt Anh Bùi",
      "userId": "14071907704536065243"
     },
     "user_tz": -420
    },
    "id": "N4PSAkFZtMY_",
    "outputId": "376a6d7b-3d17-448a-8c0f-182e8ca8157d"
   },
   "outputs": [
    {
     "name": "stdout",
     "output_type": "stream",
     "text": [
      "DECISION\n",
      "ON ATTRACTING AND ADMINISTERING INTERNATIONAL STUDENTS AT VIETNAM NATIONAL UNIVERSITY, HANOI\n",
      "(issued with Decision No.      /QĐ-ĐHQGHN [Month] [Date], 2017 of the President of Vietnam National University, Hanoi)\n",
      "Chapter I\n",
      "GENERAL PROVISION\n",
      "Article 1. Scope\n",
      "This decision provides regulations on attracting and administering international students taking long-term and short-term training programs and exchange programs at the Vietnam National University Hanoi (VNU).\n",
      "Article 2. Regulated Entities\n",
      "Article 3. Objectives\n",
      "Article 4. Principles\n",
      "Article 5. Definitions\n",
      "Chapter II\n",
      "ATTRACTING INTERNATIONAL STUDENTS\n",
      "Article 6. Signing student exchange agreements.\n",
      "Article 7. Implementing training programs for international students\n",
      "1. Long-term training programs\n",
      "Training units design training programs and issue diplomas based on the issued training programs or design new programs (in accordance with the unit's approved fields of training) for international students. The language used in training is Vietnamese or a foreign language pursuant to the decision on issuing training program of the President of VNU.\n",
      "2. Short-term training programs\n",
      "Training units design and organize short-term training programs to meet the learners' needs and issue certificates (in accordance with the unit's approved fields of training) for international students. The content of short-term training programs may be new or be improvised from modules available in the promulgated training programs. Language availability depends on the capacity of the training unit and/or be in accordance with the agreement with the partners/trainees.\n",
      "3. Student exchange programs\n",
      "Training units offer modules in the promulgated training programs and/or design new modules and exchange teaching programs in Vietnamese or foreign languages ​​(in accordance with the unit's facility and approved fields of training) for international exchange students.\n",
      "Student exchange programs are taken in either noncumulative or cumulative credits of one semester or one academic year (minimum required cumulative credits are 6 credits per semester); scientific research combines with seminars, field trips or cultural exchange activities. Student exchange programs are designed and organized based on the agreement between VNU/training units with partners.\n",
      "Article 8. Scholarships for international students\n",
      "VNU/ training units establish scholarships based on the allocation of legal revenues and legal aid from organizations and individuals to grant international students who meet the criteria. The scholarship will be awarded by VNU/training units. The scholarship scheme is built on a number of criteria and forms that correspond to specific criteria.\n",
      "Article 9. Accommodation and support services for international students\n",
      "1. VNU may consider offerring discounts and exemption of accommodation and support service fees for international students.\n",
      "2. Training units may establish policies to reduce the cost of accommodation for international students in accordance with their specific conditions during their study and exchange period at the unit.\n",
      "3. Through VNU Center for Student Services, VNU provides accommodation and support services to international students at the most reasonable fees. Training units publish information regarding accommodation and services support programs to international students on their websites and directly inform the international students.\n",
      "4. Accommodations for international students are equipped with equipment to ensure the most favorable conditions for their studying and staying at VNU.\n",
      "Article 10. Scientific and cultural exchange activities\n",
      "Article 11. Advertising for training units and programs\n",
      "1. The training units are responsible for regularly updating useful information in English and other foreign languages ​​(if any) about their activities, training programs, scholarships, policies to attract other students, etc. on their website to allow international students' easy access and contact when they need to study or exchange at the training unit .\n",
      "2. The training unit shall update the enrollment information on the international student recruitment software of VNU and its website at least twice a year and at least 3 months in prior to each enrollment or as requested by VNU.\n",
      "3. VNU is the focal point for organizing and directing coordinating training units to participate in programs to promote enrollment and international training fairs suited to the needs and capability of the member training units of VNU.\n",
      "4. The training units shall design and implement programs to attract and recruit international students to study and exchange in accordance with the units and publish them on their websites, VNU's website and/or on the media, appropriate channels and report to VNU prior to implementation.\n",
      "Chapter III\n",
      "ENROLLMENT, TRAINING AND INTERNATIONAL STUDENT ADMINISTRATION IN LONG-TERM TRAINING PROGRAMS\n",
      "Article 12. Eligibility requirements\n",
      "1. Having sufficient professional qualifications to meet the study and research requirements of the training program at each level:\n",
      "a. For undergraduate programs: obtained baccalaureate diploma or equivalent with a grade satisfying the admission requirements of the program applying.\n",
      "b. For master's programs: obtained an undergraduate degree in relevant or similar field to that of the preferred master's program or meet specific requirements of the program.\n",
      "c. For doctoral programs: obtained an undergraduate degree of a good grade or higher, or a master's degree in relevant or similar field to that of the preferred program or meet specific requirements of the program applying; have the required number of scientific articles and researches published in specialist journals; obtained letters of recommendation complying with VNU's current regulations on doctoral training.\n",
      "d. For international students who transfer under the exchange programs signed between VNU and foreign universities, the reception and study arrangement shall comply with the written agreement between the two parties. The assessment of international students' academic and professional qualifications will be conducted by the training unit through application review, testing and direct or online interview (if necessary).\n",
      "e. The training unit is responsible for verifying the degree, examining the accreditation status and ranking of the institution granting degree for international students who register for long-term study at the training unit.\n",
      "2. Having sufficient command of Vietnamese or other foreign languages (if the training program is conducted in the corresponding foreign languages) to meet the study and research requirements of the training program:\n",
      "a. For international students studying in Vietnam: international students must meet one of the following requirements:\n",
      "- Obtained a certificate of Vietnamese language proficiency level 4/6 or higher in accordance with the Vietnamese Language Proficiency Framework for Foreigners by VNU University of Social Sciences and Humanities, or other training institutions authorized by the Ministry of Education and Training;\n",
      "- Obtained an undergraduate degree in Vietnamese in a foreign country;\n",
      "- Obtained a baccalaureate/ undergraduate/ master/ doctoral degree in which the language used in the study is Vietnamese;\n",
      "- Obtained a certificate upon completion of the preparatory Vietnamese course by VNU University of Social Sciences and Humanities or other training institutions authorized by the Ministry of Education and Training.\n",
      "b. For international students studying in another language: international students must meet one of the following requirements:\n",
      "- Be a citizen of a country in which the official language is the language used in the program applying;\n",
      "- Have a certificate of foreign language proficiency level 4/6 or higher in accordance with the 6-level Foreign Language Proficiency Framework for Vietnam granted by an institution recognized by VNU or a corresponding international language certificate;\n",
      "- Have a baccalaureate/ undergraduate/ master/ doctoral degree in which the language of study is the language used in the program applying at VNU.\n",
      "c. International students who have not yet proved their Vietnamese or foreign language proficiency according to Points a and b, Clause 2 of this Article have to take an examination of Vietnamese or other foreign language (if the training is conducted in the corresponding foreign language) before being considered for admission. The examination is conducted by the VNU University of Social Sciences and Humanities (for Vietnamese) and VNU University of Languages and International Studies ​​ (for foreign languages). Candidates finance their examination fees.\n",
      "3. Be physically fit for study, certified by competent medical agencies.\n",
      "4. Age requirements for international students under the countries' agreement shall be implemented in accordance with the Treaties and Agreements signed between Vietnam and other countries, territories and international organizations. No age restriction for scholarship-funding international students and self-financing international students.\n",
      "5. Have sufficient financial capacity to study and stay in Vietnam during the study.\n",
      "6. Have a clean personal history, not under criminal sanctions, not violate the laws of Vietnam and home country.\n",
      "Article 13. Application submission and application requirements\n",
      "1. Application submission: International students fill out an application form and submit it online via the VNU international student recruitment software.\n",
      "2. Application requirements:\n",
      "International students submit online one set of the following documents in Vietnamese or English:\n",
      "a. A notarized copy and Vietnamese translation of the degree and academic transcript required for each training level, specifically:\n",
      "- For undergraduate level: baccalaureate diploma or equivalent and transcript.\n",
      "- For master's degree: undergraduate diploma and transcript.\n",
      "- For doctoral degree: undergraduate diploma and master's diploma and transcript.\n",
      "b. A health certificate issued by an authorized medical institution of the home country or a provincial or above level medical institution in Vietnam issued not later than 06 months before the date of application submission certifying that the health status of the international student is sufficient for study.\n",
      "c. A valid copy of proof of Vietnamese or foreign language proficiency corresponding to the language used in the training program in Vietnam (if any).\n",
      "d. A copy of financial documents to ensure the study, research and stay in Vietnam.\n",
      "e. Doctoral candidates must submit a research proposal in Vietnamese or foreign language which is the language used in the program applying; copies of articles in scientific journals, or published at national or international conferences with scientific reviews, ISBN numbers related to fields or research topics,  recognized by the board of professor and associate professors of the research field; at least a letter of recommendation of a scientist having the title of professor or associate professor or science doctor, having participated in professional activities with the PhD candidate and is knowledgeable about the field of study that the PhD candidate intends to study; and meet the specific requirements on experience of each major and submit other relevant documents upon request of the training unit in accordance with current regulations of doctoral training in VNU.\n",
      "f. A copy of the passport with the expiration date covering the entire duration of study in Vietnam or at least one year from the date of arrival in Vietnam.\n",
      "g. Curriculum vitae with photo of international student.\n",
      "3. Admission procedure: VNU instructs and requests the training institutions to host international students according to the following procedure:\n",
      "a. Preliminary selection: training units review applications on the software, contact consultancy, request to supplement the application (if necessary) and notify the expected time of result announcement to students.\n",
      "b. Application Review: training units set up a council to review and evaluate the educational level, professional capability, research outline and conductibility of the research project (for PhD level); Vietnamese or foreign language skills; health and financial conditions of international students through examination of documents and testing, interview (if necessary). Application review takes within 30 days from the date of receipt of the application.\n",
      "c. Announcing the results: based on the results of the selection council, if the international students meet the requirements for admission into the program as prescribed, the training unit certifies the admission on the enrollment software, issue decision on admission or request VNU to issue decision on admission as follows:\n",
      "- University level: Head of member training unit issues the decision on admission, decision on Recognition of students and reports to VNU (through the Department of Academic Affairs); Heads of affiliated training units report and request VNU to authorize the issuance of the decision on admission and the decision on Recognition of students.\n",
      "- Master/ PhD level: Head of member training unit issues decision on Recognition, decision on admission/ accreditation of doctoral students and reports to VNU (through the Department of Academic Affairs); Heads of affiliated training units report and request VNU to issue decisions to on Recognition and decision on the admission/ recognition of doctoral students. Students must complete the enrollment procedure and submit the hard copy at the request of the training unit before issuing the decision to recognize trainees/students.\n",
      "d. A dossier of the member training unit's report to VNU shall include:\n",
      "- Full profile of international students;\n",
      "- The decision on the establishment of the Selection Council of the training unit;\n",
      "- Minutes and conclusions of the Selection Council;\n",
      "- Evaluation of research proposal (for PhD level);\n",
      "- Decision on admission/recognition of the students.\n",
      "e. A dossier of requesting VNU to authorize the member training unit to issue a decision on admission or decision on recognition of students (for undergraduate level) shall include:\n",
      "- Full profile of international students;\n",
      "- The decision on the establishment of the Selection Council of the training unit;\n",
      "- Minutes and conclusions of the Selection Council;\n",
      "- Evaluation of research proposal (for PhD level);\n",
      "- A written report signed by the head of the training unit, clearly stating the educational and professional qualifications and capability; Vietnamese or foreign language skills; the health status of the international student (attached to the relevant records) and the ability of the unit to meet the training of the majors/disciplines chosen by the student; forms of training, financial sources and levels of training fees, etc.\n",
      "The training unit shall announce the enrollment results to the students and the time limit for admission in accordance with the training schedule of the unit but shall not exceed 60 days from the date of notification. For applications that do not meet the admissions requirements of the program, the training unit notifies international students.\n",
      "- Based on the list of students enrolled, the training unit directly reports to VNU and proposed to authorize the issuance of decisions on Recognition of students.\n",
      "f. For agreement-based international students: the training unit shall carry out the procedures for receiving according to Circular No. 03/2014/TT-BGDT dated February 25, 2014 on the Regulations on Management of Foreigners Studying in Vietnam of the Ministry of Education and Training or current regulations and report to VNU, Ministry of Education and Training.\n",
      "g. For the applications VNU issues the decision on Recognition, the Department of Academic Affairs shall act as the coordinator, collaborate with the Department of Cooperation and Development to evaluate the applications and notify the training unit to inform students.\n",
      "Article 14. Pre-enrolment study and official program\n",
      "a. Preparation study includes pre-enrolment language training course and preparation academic training course to obtain supplementary knowledge of the major to meet the qualification requirements for the corresponding undergraduate, master's and doctoral degrees.\n",
      "b. Students who meet the required level of Vietnamese or other foreign languages ​​ (as the language used in the program) can participate in the official training program in Vietnamese or foreign language respectively. Students who have not met the required level of Vietnamese or foreign languages ​​must take the preparation language training course.\n",
      "c. For agreement-based international students who are assigned by the Ministry of Education and Training to preparation language training course, the duration of preparation language training course is defined according to the agreement signed between Vietnam and other countries, territories and international organizations; scholarship-funded international students and self-financed international students can study Vietnamese or other foreign languages ​​at a institution offering preparation Vietnamese training courses or at the VNU University of Social Sciences and Humanities, or VNU University of Languages and international Studies. Length of training is based on the training program that the student participates in or agreement between the training unit and the student.\n",
      "d. Following the completion of the preparation study, international students must take Vietnamese or foreign language proficiency test, if they meet the required level, they will be transferred to the official program, otherwise, they must continue to study and take another Vietnamese or foreign language proficiency test to meet the requirements and be certified to participate in the official program.\n",
      "e. Preparation academic training course (if necessary) is organized by the host institution accepting the international student for a maximum length of one year after the international student completes the preparation language training course.\n",
      "2. Official program\n",
      "a. International students who have achieved the required Vietnamese language proficiency certificates or have graduated from high school, vocational secondary schools, colleges, undergraduate programs, master programs and doctoral programs in Vietnamese and meet the conditions concerning health, age and professional background as prescribed in Article 12 are considered for direct entry into the official program.\n",
      "b. International students who meet the entry requirements for the language proficiency of the program conducted in that language, meet the conditions concerning health, age, finance situation and professional background as prescribed in Article 12 are considered for direct entry into the official program.\n",
      "Article 15. Elective modules for international students\n",
      "1. International students are exempted from the requirement for expected learning outcome of foreign language standards for Vietnamese citizens participating in programs taught in Vietnamese.\n",
      "During the training, heads of the training units shall consider organizing advanced Vietnamese language courses to replace foreign language courses for international students.\n",
      "2. International students of undergraduate program are excluded from the National Defense-Security Education course and have the right to choose one of the following alternative courses: Vietnamese culture, Vietnamese history or other elective courses that are decided by the head of the training unit based on the actual conditions of the training units.\n",
      "Article 16. Length of training and in-training adjustments\n",
      "1. Length of training\n",
      "The length of training at all levels shall comply with the Education Law, the Law on Higher Education and current relevant legal documents and guidance and VNU's regulations on undergraduate, graduate and doctoral training.\n",
      "2. Shortening or extending study duration\n",
      "a.International students may shorten their length of training but shall complete contents of training programs under current regulations;\n",
      "b. Agreement-based international students must not prolong their length of study or research at their own will. If it is necessary to extend the length for completing training programs, including the preparation, international students must report to the training units, heads of the educational institutions where they are studying for proposals and obtain written approval of the Ministry of Education and Training;\n",
      "c. For other scholarship-funded and self-financed international students, the prolongation of the length of training complies with agreements with the training unit where they are studying.\n",
      "3. Temporary suspension of study\n",
      "a. Agreement-based students may temporarily suspend their study for at least one academic year if they obtain request from home organization and approved by the training unit, approved in written document by the Ministry of Education and Training.\n",
      "b. The length of temporary suspension of study of other scholarship-funded and self-financed students complies with regulations for the training unit and VNU.\n",
      "4. Changing major or training unit\n",
      "a. Agreement-based international students must not change their majors or training unit at their own will. They may change their study majors or training unit only when the sending parties or educational institutions send their written consents to the Ministry of Education and Training which shall later issue decisions to permit the change. Changing study major or training unit shall be done only once.\n",
      "b. Changing study majors or training unit by other scholarship-funded international students must be approved by their sponsors and by VNU/training unit in accordance with current regulations.\n",
      "c. Changing study majors or training unit by self-financed international students will be considered by the VNU/training unit on a case by case basis.\n",
      "5. Forcefully withdrawal from training\n",
      "Forcefully withdrawal from training complies with current undergraduate/master/doctoral training regulations of VNU. In special cases, heads of training units report VNU to consider and decide.\n",
      "Article 17. Training expenses and scholarships\n",
      "1. For Agreement-based International Students\n",
      "a. Training criteria, entitlement and expenses comply with current regulations of the Ministry of Finance and the agreements or accords between Vietnam and sending parties.\n",
      "b. Foreign students who must prolong their study duration to complete training programs for the reason of change of study majors or training unit or failing to meet the required study progress may no longer enjoy the current scholarships during the prolonged duration. All expenses for the prolongation shall be paid by the sending parties, foreign students or by other lawful sources.\n",
      "c. Foreign students who temporarily suspend their study may not enjoy the current scholarships during the temporary suspension duration. After the duration of temporary suspension of study, foreign students who are qualified for be re-admitted by the training unit may continue enjoying such scholarships. The total duration of reception of scholarships complies with Article 16 of this Regulation.\n",
      "2. For other scholarship-funding international students and self-financed international students\n",
      "a. Training expenses for scholarship-receiving international students comply with the agreements or training contracts signed between scholarship- granting organizations or individuals or foreign students themselves and the training unit. All expenses incurred during studying at VNU are paid by the international students. If the training time exceeds the prescribed time, students must pay tuition fees and other expenses as regulated by the training unit.\n",
      "b. Tuition fees and other fees are built by the training unit on the basis of balance between the revenue and expenditure, not contrary to the current regulations of the government and VNU. These tuition fees and other fees must be notified to international students prior to admission.\n",
      "c. Students who meet the scholarship criteria of the training unit are considered by the unit to award scholarships in accordance with the unit's policies and scholarship programs applied to the corresponding training.\n",
      "Article 18. Electronic database management system for international students\n",
      "International students must register and fully update the information on the international student management database at httt://lhsnn.vied.vn no later than 30 days upon arrival in Vietnam.  International students must update regularly if there is any change. The training unit shall update information of international students on the unit's electronic database management software.\n",
      "Chapter IV\n",
      "ENROLLMENT, TRAINING AND INTERNATIONAL STUDENT ADMINISTRATION IN SHORT-TERM TRAINING PROGRAMS\n",
      "Article 19. Enrollment\n",
      "1. Enrollment: VNU, training units announce the training programs and training time plan on the international student recruitment software, on the website of the training unit and on other appropriate media for interested candidates to enroll the program. Enrollment information includes:\n",
      "- The training program, form of training, length of training, certificates.\n",
      "- Scholarships, related expenses in the training program and other relevant information.\n",
      "2. Short-term international students studying at the training institutions must register on the international student enrollment software of VNU.\n",
      "3. The member training unit must report to VNU prior to the enrollment. Other units must request permission from VNU prior to enroll short-term training programs.\n",
      "Article 20. Organization of training\n",
      "1. Training units shall organize the training according to the program agreed upon between the parties. Based on the number of applications, characteristics of the training program, training units allocates lecturers, reasonable schedule to ensure the objectives of the program.\n",
      "2. Training units shall be responsible for the international student administration for the duration of the short-term training program in accordance with the current regulations.\n",
      "3. Assessment: the method of examination and assessment must be clearly defined in the curriculum. The training unit may undertake a module-based assessment or overall assessment at the end of the program according to the methodology published in the issued curriculum.\n",
      "Article 21. Short-term training programs\n",
      "1. Training programs are designed, constructed and implemented by training units based on the learners' needs, objectives of the training program or the agreement with partners, but not violate the law of Vietnam and VNU's regulations. Programs in Law, Religion, Security and other specific training fields pursuant to regulations must request approval by the Vietnam National University Hanoi prior to implementation.\n",
      "2. Training programs must clearly state the structure of contents, objectives, standards, skills; method and form of training; methods of evaluation according to the type of training; eligibility requirements for certificates upon completing the course.\n",
      "3. The training program are approved by Head of the training unit; signed or authorized to heads of Schools/Offices/Departments to sign the implementation decision. This is the basis for the training unit to supervise the process of implementing the program, supervising lecturers, evaluating the completion of the program and awarding certificates to students.\n",
      "Article 22. Volume and length of training\n",
      "1. The amount of knowledge of each training program is distributed in one or more modules, depending on the objectives and regulations of each program or type of training. The amount of each module includes theory, discussion, practice and self-study. Each module has a detailed syllabus, compiled in the form prescribed by the training unit.\n",
      "2. Length of training: the time required for training and improving the professional qualifications and skills are assigned for each program, appropriately agreed upon with the trainees and approved by the head of the training unit, under a term of less than one year.\n",
      "Article 23. Certification\n",
      "1. Forms of certificates are designed and issued by training units in accordance with current regulations of VNU and the Ministry of Education and Training.\n",
      "2. VNU/training units issue certificates to learners under the following conditions:\n",
      "- Meet the required outcomes of the training program;\n",
      "- Completing the tuition, fees and related expenses as prescribed;\n",
      "- Do not violate the law and articles related to certification issuance under the Regulation of the Ministry of Education and Training.\n",
      "3. Certification and certification time: within 30 days after the end of the training course, VNU/training units issue certificates for eligible students.\n",
      "Chapter V\n",
      "RECEIVING, TRAINING AND ADMINISTERING INTERNATIONAL STUDENTS OF STUDENT EXCHANGE PROGRAMS\n",
      "Article 24. Types of exchange programs, program levels and exchange duration\n",
      "1. Cultural exchange program: are short-term exchange program (from 1 week to 3 months) whose main activity is to receive foreign students to exchange, learn Vietnamese culture without accumulating credits. This exchange program can also combine a few credits; the credit accreditation is based on the agreement between VNU / the training unit and the partner sending students to exchange.\n",
      "2. Credit accumulation exchange program: are programs in which credits are accumulated at the training unit of international students, scientific research programs associated with studying or internship, field trips. Students who complete modules in the exchange program will be given a transcript or an internship or field-trip certificate and be considered for credit accreditation/ recognition of the internship.\n",
      "3. Level of exchange program\n",
      "a. Exchange program at VNU level: based on a cooperation agreement between VNU with partners and partners' announcement of sending exchange student, VNU will request the training unit to carry out procedures for receiving and organizing training programs for international students.\n",
      "b. Exchange program at training unit level: comply with the agreement signed by the unit and partners, or the agreement signed by VNU and assigned to the unit. The unit is in charge of implementing the program and is responsible for receiving, organizing and administering international exchange students and reporting VNU biannually before June 30 and December 31.\n",
      "4. Duration of exchange program\n",
      "a. For cultural exchange program: students participate in exchange programs whose duration is regulated by each program.\n",
      "b. For credit accumulation exchange program: students can join the exchange program in 01 semester or 02 semesters (01 year) according to each program or the agreement signed by VNU/training unit with the partner.\n",
      "Article 25. Selection criteria and quota\n",
      "1. Selection criteria for students participating in cultural exchange programs\n",
      "a. Students who meet the requirements and conditions of the exchange program (in accordance with agreements signed with partners) set by VNU/training unit for each program.\n",
      "b. Students nominated by the partners for the exchange programs at VNU.\n",
      "2. Selection criteria for credit exchange programs\n",
      "a. be nominated by the partner university to exchange at VNU.\n",
      "b. have completed at least 2 semesters from the universities which VNU/training units have signed cooperation agreements with or are members of associations and projects that VNU/training units hold membership.\n",
      "c. Achieve a GPA of 2.8/ 4.0 or higher (accumulated grade).\n",
      "d. IELTS certificate of 5.5 or equivalent (in accordance with the language used in the exchange program). Foreign language certificates must be valid for 02 years from the date of certification to the date of application submission to VNU/training units.\n",
      "- For international students who come from countries where the official language is the language used in exchange programs at VNU, no language requirement is applied.\n",
      "- For international students participating in training programs in English or other foreign languages in exchange programs at VNU which is also their training language, no language requirement is applied but the partner university must have a confirmation letter stating that the student has enrolled in the program and is capable of studying in English or the corresponding language.\n",
      "- For international students who come to exchange academic courses in Vietnamese language at VNU but do not have Vietnamese language certificate, VNU shall assign the training unit to test their Vietnamese language proficiency and provide consultancy.\n",
      "- For international students who come to Vietnam to study Vietnamese only, no language requirement is applied.\n",
      "e. The validity of passports shall be in line with the duration of exchange programs and the current regulations of the government.\n",
      "f. be physically fit, have a study plan during the exchange period at VNU.\n",
      "g. Commit to follow regulations of VNU/ training unit and the law of Vietnam during the exchange period.\n",
      "h. For exchange programs at the training unit level, the training units shall issue criteria consistent with the exchange program but not contrary to the criteria in Clause 2 of this Article. For cultural exchange programs, criteria are co-established by the partner and the training unit for each specific program.\n",
      "3. For international students from universities which have not signed cooperation agreements with VNU/training units: the training units shall consider and receive the exchange students in accordance with Clause 2, Article 25 of this regulation.\n",
      "Article 26. Program Announcement\n",
      "1. 3 months prior to each semester, training units plan to receive students for exchange and send to VNU including information about the number of students, fields of training, support for travel, accommodation, living expenses, etc. including the student's contribution to the program (if any) and the deadline for submitting the application file.\n",
      "2. VNU compiles the reports of the units and issues a general announcement on student exchange programs at VNU and the submission deadline, posts on the VNU website and on the student recruitment software and sends email notifying partners of signed agreements. Training units inform their student exchange programs partners.\n",
      "3. The announcement must indicate clearly: the number of students, the exchange programs, the fields of training, the training units, eligibility requirements, the support for travel, accommodation, living expenses, etc., deadline for submitting the application, guidance for program registration, contact of program officers (address, telephone, email, etc.).\n",
      "Article 27. Procedures for selection and acceptance of international students for exchange\n",
      "1. For the exchange program of VNU\n",
      "a. Exchange students apply online via the international student recruitment software of VNU.\n",
      "b. VNU reviews applications, works with the training unit on the capability to receive students to exchange (if necessary) and inform the partner school of the results of receiving students exchange.\n",
      "c. VNU requests training units to consult students, issue letters of acceptance for study, carry out procedures for receiving exchange students, support visa procedures, arrange places in VNU Student's Accommodation and provide training and issue academic transcripts (mandatory for credit accumulation exchange programs) and administer international students.\n",
      "d. For the implementation of specific student exchange programs and projects, VNU shall consider and decide.\n",
      "2. For exchange program of training unit level\n",
      "a. Exchange students apply online via the international student recruitment software of VNU.\n",
      "b. The training unit is responsible for carrying out application review, student consultation, notification of results and proceed to receive exchange students, organize training and administering exchange students.\n",
      "Article 28. Exchange student administration\n",
      "1. The training unit shall carry out procedures for receiving international students to exchange at the request of the VNU or as agreed by the training unit with the partner schools; support visa procedures, temporary residence registration, study counseling; disseminate regulations on training and on international student administration to students.\n",
      "2. The training units shall organize the training and management of exchange students at the units pursuant to the current regulations on undergraduate, masters and doctoral training of VNU or under agreements signed by VNU with partners or according to the regulations of the Association or program that VNU holds membership.\n",
      "3. The training units receive international students to exchange; coordinate with the Center for Student Services to arrange suitable accommodation for students in accordance with accommodation standards and support services approved by VNU according to current regulations; monitor, supervise and manage the training process and activities of international students.\n",
      "4. The training unit appoints Vietnamese officers and students to assist international students during their study.\n",
      "5. Issue transcripts for exchange students taking credits accumulation program and/ or certificate of completion of exchange program (if any).\n",
      "Article 29. Recognition of credits\n",
      "Recognizing credits is decided by the student's home school. The training unit issues transcripts or certificate of internship or field-trip and other relevant documents to assist the partner in accrediting credits for international students.\n",
      "Article 30. Funding for student exchange programs\n",
      "International students participate voluntarily, after having studied and approved all financial terms announced by the program.\n",
      "1. Fees and exchange fees: students are exempted from paying for student ID cards, library cards and tuition fees under the agreement signed between VNU/training institutions with partner universities, or the organizations that VNU/training organizations participate in.\n",
      "2. Other funds: Funds to which students exchange are provided or required to self-finance are subjected to the terms signed between VNU/training units and partner universities/organizations in each program. The program fees are open to the public and are clearly communicated to students.\n",
      "3. Accommodation fees\n",
      "- Students participating in credit exchange programs under the cooperative agreement between VNU and partner universities are subsidized or exempted from accommodation fees (including electricity, water, other services) in accordance with the regulations of VNU Center for Student Services. Exemptions on accommodation fees can be adjusted according to the regulations of VNU.\n",
      "- Students participating in other student exchange programs and projects: students pay for accommodation and other services as regulated by each exchange program. Fees are issued by VNU.\n",
      "Chapter VI\n",
      "BENEFITS AND RESPONSIBILITIES OF INTERNATIONAL STUDENTS\n",
      "Article 31. Benefits\n",
      "1. Be admitted to the program that the student is registered for; be treated as Vietnamese students; be informed about regulations relating to international students; be supported to learn about the customs of Vietnam.\n",
      "2. Be provided with adequate information to serve their study according to the conditions of the training unit and establishments serving international students.\n",
      "3. Be placed in the dormitory of VNU; have access to equipment and facilities to serve their study, cultural, sport and physical training activities in of the training unit and establishments serving international students.\n",
      "4. Participate in cultural, artistic, sport and physical training activities organized for international students of the training unit and establishments serving international students.\n",
      "5. To participate in scientific research activities, seminars, scientific workshops held by VNU/training unit.\n",
      "6. To sit exams, take tests, defend graduation theses, receive graduation certificates or diplomas, transcript upon graduation or transcript for exchange period.\n",
      "7. To return to their home countries for summer vacations and holidays; to invite their relatives to visit Vietnam under the current regulations; to take annual leave or sick leave or leave for medical treatment with the training unit's  approval.\n",
      "8. Foreign students under agreements may receive scholarships and other benefits complying with the agreements  between Vietnam and their home countries and current Vietnam's regulations. Other international students are eligible for scholarships depending on the specific policy of each program.\n",
      "Article 32. Responsibilities of international students\n",
      "1. Abide by laws of the Socialist Republic of Vietnam. To respect the Vietnamese customs and traditions.\n",
      "2. To submit completed application as required; completing procedures for achieve physical insurance, health insurance, temporary residence registration; To carry out financial obligations fully and promptly as required by the training unit.\n",
      "3. Observe the Regulation on management of foreigners studying in Vietnam promulgated by the Vietnamese Ministry of Education and Training, training regulations of VNU and regulations, rules on learning, exchange and living prescribed by the training unit, establishments serving international students.\n",
      "4. Update personal information fully, accurately and truthfully to the e-database system on management of international students as prescribed in  Article 18 of this Regulation.\n",
      "5. Observe the regulation on foreign workers in Vietnam in case international students work or perform part-time jobs in Vietnam.\n",
      "6. Strictly observe regulations and purposes of entering Vietnam for study; Be self responsible in learning and scientific research activities.\n",
      "7. Maintain friendly relations with Vietnamese citizens and with students from other countries.\n",
      "8. Preserve and protect the property of the training unit and establishments serving international students.\n",
      "9. Have the permission of the training units when traveling on holidays and Tet holiday. In this case, international students must take care of all procedures, funds and take responsibility for their own safety, health and other issues.\n",
      "Chapter VII\n",
      "RESPONSIBILITIES OF VNU AND TRAINING UNITS\n",
      "Article 33. Responsibilities of the functional departments and relevant bodies in VNU\n",
      "1. Department of Academic Affairs\n",
      "a. Works as a hub for attracting and managing international students studying long-term, short-term and exchange programs at VNU, managing the international student recruitment software.\n",
      "b. For long-term training programs awarding degrees: examine and supervise the enrollment, organization and management of training units, provide necessary support and coordinate in solving issues related to training administration.\n",
      "c. For student exchange programs: works as a hub for implementing cumulative credit exchange program, research programs combined with study, internship and field trips as agreed by VNU and partners or as parts of programs or projects where VNU holds membership. In case of necessity, the Department shall coordinate with the relevant departments and training units to administer international exchange students.\n",
      "d. For short-term training programs: receive reports and assign related tasks.\n",
      "e. Instructs training units and related parties to solve problems occurring during enrollment, training, attracting and managing international students who study and exchange at VNU.\n",
      "f. Reviews VNU scholarship grants available to international students.\n",
      "2. Department of Political and Student Affairs\n",
      "a. Acts as a hub for the implementation of cultural exchange programs specified in Clause 1, Article 24 of this Regulation.\n",
      "b. Collaborates with chief departments in the management of international students who study and exchange with credit accumulation at VNU, receive exchange students.\n",
      "c. Coordinates with training units and VNU Center for Student Services in providing accommodation and support services and administering international student during their study and exchange at VNU.\n",
      "3. Department of Cooperation and Development\n",
      "a. Collaborates in the management of international students who study long-term training programs and exchange programs at VNU and receives exchange students.\n",
      "b. Supports students with visa application and entry and other tasks related to its functions and duties.\n",
      "4. Department of Planning-Finance\n",
      "a. Examines income/expenses relating to students at the request of the training unit or provides funding under schemes approved by the President or funding included in agreements signed by VNU.\n",
      "b. Coordinates with related functional departments in proposing/ appraising income/expenditures for international students participating in training programs or exchange programs to submit to the President of VNU for approval.\n",
      "5. Department of Science and Technology\n",
      "Collaborates with training units in designing exchange programs for students conducting scientific research or participating in laboratory research or VNU research teams.\n",
      "6. VNU Center for Student Services\n",
      "a. Develops and updates information in English on accommodation and support services for international students on its website to assist students in searching for information.\n",
      "b. Holds responsibility for provision of accommodation services and other support services within the scope of its functions and activities; provides facilities for receiving students and arranges accommodation for international students in the reserved area for international students in the student accommodation;\n",
      "c. Holds responsibility for the emotional and physical well-being of international students within its scope of management; disseminates the rules of the student accommodation and administers students in the student accommodation.\n",
      "d. Informs training units of the living state of international students to compile a report to VNU once a year or depending on the length of the exchange or short-term program.\n",
      "e. Collects accommodation and support service fees from international students in accordance with the VNU's current regulations; balances funds from non-business sources to cover the costs of free accommodation provided to students. VNU does not provide budget for these costs.\n",
      "7. Office of Communication and Brand Management\n",
      "Holds responsibility for uploading timely and accurate documents/ dossiers related to international student enrollment programs, student exchange programs and short-term training programs on the VNU's website at the request of departments/training units.\n",
      "8. Youth Union/Student Association\n",
      "Organizes volunteer activities to help and support international students with studying and training at VNU and activities to attract international students to participate in cultural, artistic, social and charitable activities organized for Vietnamese students.\n",
      "9. VNU Library and Information Center\n",
      "Holds responsibility for providing library cards and facilitating international students in accessing learning materials for their study at VNU.\n",
      "Article 34. Responsibilities of training units\n",
      "1. Heads of training units appoint officers or establish specialized sections under Office of Academic Affairs to implement activities to attract and administer international students studying long-term, short-term or exchange programs at the unit.\n",
      "2. The University of Social Sciences and Humanities is responsible for organizing preparatory courses in Vietnamese, coordinating with the training units in testing Vietnamese language proficiency for candidates in accordance with Article 14 of this Regulation.\n",
      "3. The University of Languages and International Studies is responsible for coordinating with the training units in testing the foreign language proficiency for students who register for the training programs in corresponding foreign languages.\n",
      "4. Training units are responsible for conducting activities to attract international students to study and exchange at the units; participating in programs to promote and attract international students organized by VNU; undertaking processes of recruitment and reception of international students according to their functions and administering international students during their study and living in Vietnam according to the law and VNU's regulations; supervising and inspecting the update of international student electronic database as prescribed in Article 18 of this Regulation; coordinating with authorized bodies in dealing with issues related to international students during their staying and studying in Vietnam.\n",
      "5. The responsibilities of training units in receiving international students for long-term, short-term training programs and credit exchange are as follows:\n",
      "a. Ensure the program, syllabus, contents and quality of training; arranges classes, instructors and Vietnamese students to manage and support the study and research of international students; awards degree certificates and transcripts, credit transfer or certificates according to its authority; recommends the Ministry of Education and Training to make a adjustments on the curriculum for international students in case of necessity.\n",
      "b. Organize training according to the issued training program under the terms signed in the training contract with international students.\n",
      "c. Make a list of agreement-based international students to report to the Ministry of Education and Training and VNU about the results of training of international students after each school year and the whole course.\n",
      "d. Only provide training within fields approved (except for those designated by the Ministry of Education and Training to receive agreement-based international students).\n",
      "e. Sign training contracts with international students (except agreement-based international students) to study long-term training programs issuing degree certificates.\n",
      "f. Manage the income and expenses from international students according to the current financial regime; prepare documents related to tuition fees and other fees charged on international students who study in accordance with agreements with partners and students and with current regulations.\n",
      "g. Report to VNU issues exceeding the jurisdiction of the unit during the process of training and administering international students.\n",
      "Chapter VIII\n",
      "COMMENDATION AND HANDLING OF VIOLATIONS\n",
      "Article 35. Commendation and handling of violations of foreign students\n",
      "1. International students who have recorded outstanding achievements in their study or scientific research and made great contributions to cultural, art, physical training sport, and friendship activities are rewarded according to the regulations on emulation and reward of training units and VNU.\n",
      "2. Students who breach disciplines shall, depending on the seriousness of their violations, be subject to the following handling forms:\n",
      "a/ Reprimand;\n",
      "b/ Caution;\n",
      "c/ Suspension of study and forcible return to home countries;\n",
      "d/ Handling in accordance with the law of Vietnam by relevant agencies.\n",
      "3. Forms of discipline shall be decided by Heads of training units. For international students under Agreement, forms of discipline prescribed in Points c and d, Clause 2 of this Article, are decided by the Heads of the training unit to report to VNU to the Ministry of Education and Training for decision-making.\n",
      "Article 36. Commendation and handling of violations\n",
      "1. Organizations and individuals having outstanding achievements in training, administering and servicing foreign students are commended and rewarded pursuant to VNU's regulations on emulation and commendation.\n",
      "2. Organizations and individuals committing acts of violation of this Decision, VNU's regulations and other relevant laws shall be handled in accordance with the law depending on the seriousness of their violations.\n",
      "Chapter IX\n",
      "IMPLEMENTATION\n",
      "Article 37. Reporting schemes\n",
      "Article 38. Implementation\n",
      "Heads of concerned departments and Heads of training units, centers, unions shall be responsible for the implementation of this Decision. Member units may develop guidelines for implementation and application that comply with articles established in this Regulation.\n",
      "Article 39. Terms of enforcement\n",
      "FOR PRESIDENT\n",
      "VICE PRESIDENT\n",
      "(signed)\n",
      "Nguyen Hong Son\n"
     ]
    }
   ],
   "source": [
    "print(final_text)"
   ]
  },
  {
   "cell_type": "code",
   "execution_count": 12,
   "metadata": {
    "executionInfo": {
     "elapsed": 9,
     "status": "ok",
     "timestamp": 1746838841103,
     "user": {
      "displayName": "Việt Anh Bùi",
      "userId": "14071907704536065243"
     },
     "user_tz": -420
    },
    "id": "bDtVrQ72tOgg"
   },
   "outputs": [],
   "source": [
    "#luu ket qua ra file\n",
    "\n",
    "output_dir = \"data\"\n",
    "output_file = os.path.join(output_dir, \"thong_tin_tuyen_sinh_du_hoc_sinh.txt\")\n",
    "\n",
    "with open(output_file, 'w', encoding='utf-8') as file:\n",
    "    file.write(final_text)"
   ]
  },
  {
   "cell_type": "code",
   "execution_count": null,
   "metadata": {
    "id": "fzYV72wOtWX5"
   },
   "outputs": [],
   "source": []
  }
 ],
 "metadata": {
  "colab": {
   "authorship_tag": "ABX9TyOCTQnIZq6gIxBpMVswgVnC",
   "provenance": []
  },
  "kernelspec": {
   "display_name": "Python 3",
   "name": "python3"
  },
  "language_info": {
   "name": "python"
  }
 },
 "nbformat": 4,
 "nbformat_minor": 0
}
