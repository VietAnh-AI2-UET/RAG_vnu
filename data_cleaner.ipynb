{
 "cells": [
  {
   "cell_type": "code",
   "execution_count": 3,
   "metadata": {
    "colab": {
     "base_uri": "https://localhost:8080/"
    },
    "executionInfo": {
     "elapsed": 9090,
     "status": "ok",
     "timestamp": 1747230003820,
     "user": {
      "displayName": "Việt Anh Bùi",
      "userId": "14071907704536065243"
     },
     "user_tz": -420
    },
    "id": "0kayurQoudQv",
    "outputId": "d209eb96-7f35-4184-eba3-8ffcde69bc12"
   },
   "outputs": [
    {
     "name": "stderr",
     "output_type": "stream",
     "text": [
      "[nltk_data] Downloading package punkt to /root/nltk_data...\n",
      "[nltk_data]   Unzipping tokenizers/punkt.zip.\n",
      "[nltk_data] Downloading package punkt_tab to /root/nltk_data...\n",
      "[nltk_data]   Unzipping tokenizers/punkt_tab.zip.\n"
     ]
    },
    {
     "data": {
      "text/plain": [
       "True"
      ]
     },
     "execution_count": 3,
     "metadata": {},
     "output_type": "execute_result"
    }
   ],
   "source": [
    "import re\n",
    "import nltk\n",
    "from nltk.tokenize import sent_tokenize\n",
    "nltk.download('punkt')\n",
    "nltk.download('punkt_tab')"
   ]
  },
  {
   "cell_type": "code",
   "execution_count": null,
   "metadata": {
    "id": "sa37vmEAul5h"
   },
   "outputs": [],
   "source": [
    "#lam sach du lieu file wikipedia_vnu.txt\n",
    "def clean_text(text):\n",
    "    text = re.sub(r'\\s+', ' ', text)  # Loại bỏ khoảng trắng dư\n",
    "    text = re.sub(r'[^\\w\\s]', '', text)  # Loại bỏ ký tự đặc biệt\n",
    "    return text.strip()\n",
    "\n",
    "with open('data/wikipedia_vnu.txt', 'r', encoding='utf-8') as f:\n",
    "    raw_text = f.read()\n",
    "cleaned_text = clean_text(raw_text)\n",
    "with open('data/cleaned_data/wikipedia_vnu_cleaned.txt', 'w', encoding='utf-8') as f:\n",
    "    f.write(cleaned_text)"
   ]
  },
  {
   "cell_type": "code",
   "execution_count": null,
   "metadata": {
    "id": "8988efrhvKFN"
   },
   "outputs": [],
   "source": [
    "#lam sach du lieu file thong_tin_tuyen_sinh_vnu.txt\n",
    "def clean_text(text):\n",
    "    text = re.sub(r'\\s+', ' ', text)  # Loại bỏ khoảng trắng dư\n",
    "    text = re.sub(r'[^\\w\\s]', '', text)  # Loại bỏ ký tự đặc biệt\n",
    "    return text.strip()\n",
    "\n",
    "with open('data/thong_tin_tuyen_sinh_vnu.txt', 'r', encoding='utf-8') as f:\n",
    "    raw_text = f.read()\n",
    "cleaned_text = clean_text(raw_text)\n",
    "with open('data/cleaned_data/thong_tin_tuyen_sinh_vnu_cleaned.txt', 'w', encoding='utf-8') as f:\n",
    "    f.write(cleaned_text)"
   ]
  },
  {
   "cell_type": "code",
   "execution_count": null,
   "metadata": {
    "id": "kST0rJn7vdss"
   },
   "outputs": [],
   "source": [
    "#lam sach du lieu file thong_tin_tuyen_sinh_ulis.txt\n",
    "def clean_text(text):\n",
    "    text = re.sub(r'\\s+', ' ', text)  # Loại bỏ khoảng trắng dư\n",
    "    text = re.sub(r'[^\\w\\s]', '', text)  # Loại bỏ ký tự đặc biệt\n",
    "    return text.strip()\n",
    "\n",
    "with open('data/thong_tin_tuyen_sinh_ulis.txt', 'r', encoding='utf-8') as f:\n",
    "    raw_text = f.read()\n",
    "cleaned_text = clean_text(raw_text)\n",
    "with open('data/cleaned_data/thong_tin_tuyen_sinh_ulis_cleaned.txt', 'w', encoding='utf-8') as f:\n",
    "    f.write(cleaned_text)"
   ]
  },
  {
   "cell_type": "code",
   "execution_count": null,
   "metadata": {
    "id": "tnHpIcnDvqCM"
   },
   "outputs": [],
   "source": [
    "#lam sach du lieu file lich_su_hinh_thanh_vnu.txt\n",
    "def clean_text(text):\n",
    "    text = re.sub(r'\\s+', ' ', text)  # Loại bỏ khoảng trắng dư\n",
    "    text = re.sub(r'[^\\w\\s]', '', text)  # Loại bỏ ký tự đặc biệt\n",
    "    return text.strip()\n",
    "\n",
    "with open('data/lich_su_hinh_thanh_vnu.txt', 'r', encoding='utf-8') as f:\n",
    "    raw_text = f.read()\n",
    "cleaned_text = clean_text(raw_text)\n",
    "with open('data/cleaned_data/lich_su_hinh_thanh_vnu_cleaned.txt', 'w', encoding='utf-8') as f:\n",
    "    f.write(cleaned_text)"
   ]
  },
  {
   "cell_type": "code",
   "execution_count": 4,
   "metadata": {
    "executionInfo": {
     "elapsed": 677,
     "status": "ok",
     "timestamp": 1747230134133,
     "user": {
      "displayName": "Việt Anh Bùi",
      "userId": "14071907704536065243"
     },
     "user_tz": -420
    },
    "id": "CJAxKSpc2XlI"
   },
   "outputs": [],
   "source": [
    "#lam sach du lieu file tuyen sinh du hoc sinh\n",
    "def clean_text(text):\n",
    "    text = re.sub(r'\\s+', ' ', text)  # Loại bỏ khoảng trắng dư\n",
    "    text = re.sub(r'[^\\w\\s]', '', text)  # Loại bỏ ký tự đặc biệt\n",
    "    return text.strip()\n",
    "\n",
    "with open('data/thong_tin_tuyen_sinh_du_hoc_sinh.txt', 'r', encoding='utf-8') as f:\n",
    "    raw_text = f.read()\n",
    "cleaned_text = clean_text(raw_text)\n",
    "with open('data/cleaned_data/thong_tin_tuyen_sinh_du_hoc_sinh_cleaned.txt', 'w', encoding='utf-8') as f:\n",
    "    f.write(cleaned_text)"
   ]
  },
  {
   "cell_type": "code",
   "execution_count": null,
   "metadata": {
    "id": "26ZTx1Y6CAwN"
   },
   "outputs": [],
   "source": []
  }
 ],
 "metadata": {
  "colab": {
   "authorship_tag": "ABX9TyPfvdbIr2Zia9jfTId60oUj",
   "provenance": []
  },
  "kernelspec": {
   "display_name": "Python 3",
   "name": "python3"
  },
  "language_info": {
   "name": "python"
  }
 },
 "nbformat": 4,
 "nbformat_minor": 0
}
